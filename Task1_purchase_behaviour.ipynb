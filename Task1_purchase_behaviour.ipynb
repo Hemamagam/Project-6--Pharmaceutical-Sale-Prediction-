{
 "cells": [
  {
   "cell_type": "markdown",
   "metadata": {},
   "source": [
    "## Project 6- Pharmaceutical Sales prediction across multiple stores"
   ]
  },
  {
   "cell_type": "markdown",
   "metadata": {},
   "source": []
  }
 ],
 "metadata": {
  "language_info": {
   "name": "python"
  }
 },
 "nbformat": 4,
 "nbformat_minor": 2
}
