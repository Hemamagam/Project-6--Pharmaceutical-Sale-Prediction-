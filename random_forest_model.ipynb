{
 "cells": [
  {
   "cell_type": "code",
   "execution_count": 4,
   "metadata": {},
   "outputs": [],
   "source": [
    "import pandas as pd\n",
    "import numpy as np\n",
    "from sklearn.ensemble import RandomForestRegressor\n",
    "import pickle"
   ]
  },
  {
   "cell_type": "code",
   "execution_count": 5,
   "metadata": {},
   "outputs": [],
   "source": [
    "model_data = pd.read_csv('train_data_processed.csv')"
   ]
  },
  {
   "cell_type": "code",
   "execution_count": 6,
   "metadata": {},
   "outputs": [],
   "source": [
    "model_data.drop(columns=[ 'Date','DayOfWeek',\n",
    "       'StateHoliday', 'SchoolHoliday', 'weekday', 'weekend',\n",
    "       'DayBeforeHoliday', 'DayAfterHoliday', 'MonthPart',  'Quarter', 'DayOfYear', 'WeekOfYear',\n",
    "       'IsWeekday', 'Sales_to_Customers_Ratio', 'Sales_to_Stores_Open_Ratio'],inplace=True)"
   ]
  },
  {
   "cell_type": "code",
   "execution_count": 10,
   "metadata": {},
   "outputs": [],
   "source": [
    "X_train = model_data.drop(columns=['Sales', 'Customers'])  # Features\n",
    "y_train_sales = model_data['Sales']  # Target variable for sales\n",
    "y_train_customers = model_data['Customers']  # Target variable for customers"
   ]
  },
  {
   "cell_type": "code",
   "execution_count": 12,
   "metadata": {},
   "outputs": [],
   "source": [
    "random_forest = RandomForestRegressor(n_estimators=100, random_state=42)  # You can adjust parameters as needed\n",
    "\n",
    "# Train the model\n",
    "random_forest.fit(X_train, y_train_sales)  # Fit the model to predict sales\n",
    "\n",
    "# Make predictions for sales\n",
    "predicted_sales = random_forest.predict(X_train)"
   ]
  },
  {
   "cell_type": "code",
   "execution_count": 13,
   "metadata": {},
   "outputs": [],
   "source": [
    "random_forest_customer = RandomForestRegressor(n_estimators=100,random_state=42) \n",
    "# Train the model again to predict customers\n",
    "random_forest_customer.fit(X_train, y_train_customers)  # Fit the model to predict customers\n",
    "\n",
    "# Make predictions for customers\n",
    "predicted_customers = random_forest_customer.predict(X_train)"
   ]
  },
  {
   "cell_type": "code",
   "execution_count": 15,
   "metadata": {},
   "outputs": [
    {
     "name": "stdout",
     "output_type": "stream",
     "text": [
      "Sales Prediction Metrics:\n",
      "Mean Absolute Error: 398.12839440075743\n",
      "Mean Squared Error: 497084.24693897186\n",
      "R-squared: 0.9664628909007115\n",
      "\n",
      "Customers Prediction Metrics:\n",
      "Mean Absolute Error: 23.987201509227695\n",
      "Mean Squared Error: 1832.783685062602\n",
      "R-squared: 0.9915022241973781\n"
     ]
    }
   ],
   "source": [
    "from sklearn.metrics import mean_absolute_error, mean_squared_error, r2_score\n",
    "\n",
    "# Evaluate model performance for sales prediction\n",
    "mae_sales = mean_absolute_error(y_train_sales, predicted_sales)\n",
    "mse_sales = mean_squared_error(y_train_sales, predicted_sales)\n",
    "r2_sales = r2_score(y_train_sales, predicted_sales)\n",
    "\n",
    "print(\"Sales Prediction Metrics:\")\n",
    "print(\"Mean Absolute Error:\", mae_sales)\n",
    "print(\"Mean Squared Error:\", mse_sales)\n",
    "print(\"R-squared:\", r2_sales)\n",
    "\n",
    "# Evaluate model performance for customers prediction\n",
    "mae_customers = mean_absolute_error(y_train_customers, predicted_customers)\n",
    "mse_customers = mean_squared_error(y_train_customers, predicted_customers)\n",
    "r2_customers = r2_score(y_train_customers, predicted_customers)\n",
    "\n",
    "print(\"\\nCustomers Prediction Metrics:\")\n",
    "print(\"Mean Absolute Error:\", mae_customers)\n",
    "print(\"Mean Squared Error:\", mse_customers)\n",
    "print(\"R-squared:\",r2_customers)"
   ]
  },
  {
   "cell_type": "code",
   "execution_count": 17,
   "metadata": {},
   "outputs": [],
   "source": [
    "with open('random_forest_model_customer.pkl', 'wb') as f:\n",
    "    pickle.dump(random_forest_customer,f)"
   ]
  },
  {
   "cell_type": "code",
   "execution_count": 18,
   "metadata": {},
   "outputs": [],
   "source": [
    "# Save the model to a file\n",
    "with open('random_forest_model.pkl', 'wb') as f:\n",
    "    pickle.dump(random_forest,f)"
   ]
  },
  {
   "cell_type": "code",
   "execution_count": null,
   "metadata": {},
   "outputs": [],
   "source": []
  }
 ],
 "metadata": {
  "kernelspec": {
   "display_name": "Python 3",
   "language": "python",
   "name": "python3"
  },
  "language_info": {
   "codemirror_mode": {
    "name": "ipython",
    "version": 3
   },
   "file_extension": ".py",
   "mimetype": "text/x-python",
   "name": "python",
   "nbconvert_exporter": "python",
   "pygments_lexer": "ipython3",
   "version": "3.9.13"
  }
 },
 "nbformat": 4,
 "nbformat_minor": 2
}
