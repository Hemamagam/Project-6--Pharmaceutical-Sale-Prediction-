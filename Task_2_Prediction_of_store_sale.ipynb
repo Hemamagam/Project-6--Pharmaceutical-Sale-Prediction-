{
 "cells": [
  {
   "cell_type": "markdown",
   "metadata": {},
   "source": [
    "## Task 2 - Prediction of store sales"
   ]
  },
  {
   "cell_type": "code",
   "execution_count": 135,
   "metadata": {},
   "outputs": [],
   "source": [
    "import pandas as pd\n",
    "import numpy as np\n",
    "import matplotlib.pyplot as plt\n",
    "import seaborn as sns"
   ]
  },
  {
   "cell_type": "code",
   "execution_count": 136,
   "metadata": {},
   "outputs": [
    {
     "name": "stderr",
     "output_type": "stream",
     "text": [
      "C:\\Users\\pooji\\AppData\\Local\\Temp\\ipykernel_17636\\3616632472.py:1: DtypeWarning: Columns (7) have mixed types. Specify dtype option on import or set low_memory=False.\n",
      "  train_data =pd.read_csv('train.csv')\n"
     ]
    }
   ],
   "source": [
    "train_data =pd.read_csv('train.csv')"
   ]
  },
  {
   "cell_type": "code",
   "execution_count": 137,
   "metadata": {},
   "outputs": [
    {
     "data": {
      "text/html": [
       "<div>\n",
       "<style scoped>\n",
       "    .dataframe tbody tr th:only-of-type {\n",
       "        vertical-align: middle;\n",
       "    }\n",
       "\n",
       "    .dataframe tbody tr th {\n",
       "        vertical-align: top;\n",
       "    }\n",
       "\n",
       "    .dataframe thead th {\n",
       "        text-align: right;\n",
       "    }\n",
       "</style>\n",
       "<table border=\"1\" class=\"dataframe\">\n",
       "  <thead>\n",
       "    <tr style=\"text-align: right;\">\n",
       "      <th></th>\n",
       "      <th>Store</th>\n",
       "      <th>DayOfWeek</th>\n",
       "      <th>Date</th>\n",
       "      <th>Sales</th>\n",
       "      <th>Customers</th>\n",
       "      <th>Open</th>\n",
       "      <th>Promo</th>\n",
       "      <th>StateHoliday</th>\n",
       "      <th>SchoolHoliday</th>\n",
       "    </tr>\n",
       "  </thead>\n",
       "  <tbody>\n",
       "    <tr>\n",
       "      <th>0</th>\n",
       "      <td>1</td>\n",
       "      <td>5</td>\n",
       "      <td>2015-07-31</td>\n",
       "      <td>5263</td>\n",
       "      <td>555</td>\n",
       "      <td>1</td>\n",
       "      <td>1</td>\n",
       "      <td>0</td>\n",
       "      <td>1</td>\n",
       "    </tr>\n",
       "    <tr>\n",
       "      <th>1</th>\n",
       "      <td>2</td>\n",
       "      <td>5</td>\n",
       "      <td>2015-07-31</td>\n",
       "      <td>6064</td>\n",
       "      <td>625</td>\n",
       "      <td>1</td>\n",
       "      <td>1</td>\n",
       "      <td>0</td>\n",
       "      <td>1</td>\n",
       "    </tr>\n",
       "    <tr>\n",
       "      <th>2</th>\n",
       "      <td>3</td>\n",
       "      <td>5</td>\n",
       "      <td>2015-07-31</td>\n",
       "      <td>8314</td>\n",
       "      <td>821</td>\n",
       "      <td>1</td>\n",
       "      <td>1</td>\n",
       "      <td>0</td>\n",
       "      <td>1</td>\n",
       "    </tr>\n",
       "    <tr>\n",
       "      <th>3</th>\n",
       "      <td>4</td>\n",
       "      <td>5</td>\n",
       "      <td>2015-07-31</td>\n",
       "      <td>13995</td>\n",
       "      <td>1498</td>\n",
       "      <td>1</td>\n",
       "      <td>1</td>\n",
       "      <td>0</td>\n",
       "      <td>1</td>\n",
       "    </tr>\n",
       "    <tr>\n",
       "      <th>4</th>\n",
       "      <td>5</td>\n",
       "      <td>5</td>\n",
       "      <td>2015-07-31</td>\n",
       "      <td>4822</td>\n",
       "      <td>559</td>\n",
       "      <td>1</td>\n",
       "      <td>1</td>\n",
       "      <td>0</td>\n",
       "      <td>1</td>\n",
       "    </tr>\n",
       "    <tr>\n",
       "      <th>...</th>\n",
       "      <td>...</td>\n",
       "      <td>...</td>\n",
       "      <td>...</td>\n",
       "      <td>...</td>\n",
       "      <td>...</td>\n",
       "      <td>...</td>\n",
       "      <td>...</td>\n",
       "      <td>...</td>\n",
       "      <td>...</td>\n",
       "    </tr>\n",
       "    <tr>\n",
       "      <th>1017204</th>\n",
       "      <td>1111</td>\n",
       "      <td>2</td>\n",
       "      <td>2013-01-01</td>\n",
       "      <td>0</td>\n",
       "      <td>0</td>\n",
       "      <td>0</td>\n",
       "      <td>0</td>\n",
       "      <td>a</td>\n",
       "      <td>1</td>\n",
       "    </tr>\n",
       "    <tr>\n",
       "      <th>1017205</th>\n",
       "      <td>1112</td>\n",
       "      <td>2</td>\n",
       "      <td>2013-01-01</td>\n",
       "      <td>0</td>\n",
       "      <td>0</td>\n",
       "      <td>0</td>\n",
       "      <td>0</td>\n",
       "      <td>a</td>\n",
       "      <td>1</td>\n",
       "    </tr>\n",
       "    <tr>\n",
       "      <th>1017206</th>\n",
       "      <td>1113</td>\n",
       "      <td>2</td>\n",
       "      <td>2013-01-01</td>\n",
       "      <td>0</td>\n",
       "      <td>0</td>\n",
       "      <td>0</td>\n",
       "      <td>0</td>\n",
       "      <td>a</td>\n",
       "      <td>1</td>\n",
       "    </tr>\n",
       "    <tr>\n",
       "      <th>1017207</th>\n",
       "      <td>1114</td>\n",
       "      <td>2</td>\n",
       "      <td>2013-01-01</td>\n",
       "      <td>0</td>\n",
       "      <td>0</td>\n",
       "      <td>0</td>\n",
       "      <td>0</td>\n",
       "      <td>a</td>\n",
       "      <td>1</td>\n",
       "    </tr>\n",
       "    <tr>\n",
       "      <th>1017208</th>\n",
       "      <td>1115</td>\n",
       "      <td>2</td>\n",
       "      <td>2013-01-01</td>\n",
       "      <td>0</td>\n",
       "      <td>0</td>\n",
       "      <td>0</td>\n",
       "      <td>0</td>\n",
       "      <td>a</td>\n",
       "      <td>1</td>\n",
       "    </tr>\n",
       "  </tbody>\n",
       "</table>\n",
       "<p>1017209 rows × 9 columns</p>\n",
       "</div>"
      ],
      "text/plain": [
       "         Store  DayOfWeek        Date  Sales  Customers  Open  Promo  \\\n",
       "0            1          5  2015-07-31   5263        555     1      1   \n",
       "1            2          5  2015-07-31   6064        625     1      1   \n",
       "2            3          5  2015-07-31   8314        821     1      1   \n",
       "3            4          5  2015-07-31  13995       1498     1      1   \n",
       "4            5          5  2015-07-31   4822        559     1      1   \n",
       "...        ...        ...         ...    ...        ...   ...    ...   \n",
       "1017204   1111          2  2013-01-01      0          0     0      0   \n",
       "1017205   1112          2  2013-01-01      0          0     0      0   \n",
       "1017206   1113          2  2013-01-01      0          0     0      0   \n",
       "1017207   1114          2  2013-01-01      0          0     0      0   \n",
       "1017208   1115          2  2013-01-01      0          0     0      0   \n",
       "\n",
       "        StateHoliday  SchoolHoliday  \n",
       "0                  0              1  \n",
       "1                  0              1  \n",
       "2                  0              1  \n",
       "3                  0              1  \n",
       "4                  0              1  \n",
       "...              ...            ...  \n",
       "1017204            a              1  \n",
       "1017205            a              1  \n",
       "1017206            a              1  \n",
       "1017207            a              1  \n",
       "1017208            a              1  \n",
       "\n",
       "[1017209 rows x 9 columns]"
      ]
     },
     "execution_count": 137,
     "metadata": {},
     "output_type": "execute_result"
    }
   ],
   "source": [
    "train_data"
   ]
  },
  {
   "cell_type": "code",
   "execution_count": 138,
   "metadata": {},
   "outputs": [],
   "source": [
    "test_data=pd.read_csv(\"test.csv\")"
   ]
  },
  {
   "cell_type": "code",
   "execution_count": 139,
   "metadata": {},
   "outputs": [
    {
     "data": {
      "text/html": [
       "<div>\n",
       "<style scoped>\n",
       "    .dataframe tbody tr th:only-of-type {\n",
       "        vertical-align: middle;\n",
       "    }\n",
       "\n",
       "    .dataframe tbody tr th {\n",
       "        vertical-align: top;\n",
       "    }\n",
       "\n",
       "    .dataframe thead th {\n",
       "        text-align: right;\n",
       "    }\n",
       "</style>\n",
       "<table border=\"1\" class=\"dataframe\">\n",
       "  <thead>\n",
       "    <tr style=\"text-align: right;\">\n",
       "      <th></th>\n",
       "      <th>Id</th>\n",
       "      <th>Store</th>\n",
       "      <th>DayOfWeek</th>\n",
       "      <th>Date</th>\n",
       "      <th>Open</th>\n",
       "      <th>Promo</th>\n",
       "      <th>StateHoliday</th>\n",
       "      <th>SchoolHoliday</th>\n",
       "    </tr>\n",
       "  </thead>\n",
       "  <tbody>\n",
       "    <tr>\n",
       "      <th>0</th>\n",
       "      <td>1</td>\n",
       "      <td>1</td>\n",
       "      <td>4</td>\n",
       "      <td>2015-09-17</td>\n",
       "      <td>1.0</td>\n",
       "      <td>1</td>\n",
       "      <td>0</td>\n",
       "      <td>0</td>\n",
       "    </tr>\n",
       "    <tr>\n",
       "      <th>1</th>\n",
       "      <td>2</td>\n",
       "      <td>3</td>\n",
       "      <td>4</td>\n",
       "      <td>2015-09-17</td>\n",
       "      <td>1.0</td>\n",
       "      <td>1</td>\n",
       "      <td>0</td>\n",
       "      <td>0</td>\n",
       "    </tr>\n",
       "    <tr>\n",
       "      <th>2</th>\n",
       "      <td>3</td>\n",
       "      <td>7</td>\n",
       "      <td>4</td>\n",
       "      <td>2015-09-17</td>\n",
       "      <td>1.0</td>\n",
       "      <td>1</td>\n",
       "      <td>0</td>\n",
       "      <td>0</td>\n",
       "    </tr>\n",
       "    <tr>\n",
       "      <th>3</th>\n",
       "      <td>4</td>\n",
       "      <td>8</td>\n",
       "      <td>4</td>\n",
       "      <td>2015-09-17</td>\n",
       "      <td>1.0</td>\n",
       "      <td>1</td>\n",
       "      <td>0</td>\n",
       "      <td>0</td>\n",
       "    </tr>\n",
       "    <tr>\n",
       "      <th>4</th>\n",
       "      <td>5</td>\n",
       "      <td>9</td>\n",
       "      <td>4</td>\n",
       "      <td>2015-09-17</td>\n",
       "      <td>1.0</td>\n",
       "      <td>1</td>\n",
       "      <td>0</td>\n",
       "      <td>0</td>\n",
       "    </tr>\n",
       "    <tr>\n",
       "      <th>...</th>\n",
       "      <td>...</td>\n",
       "      <td>...</td>\n",
       "      <td>...</td>\n",
       "      <td>...</td>\n",
       "      <td>...</td>\n",
       "      <td>...</td>\n",
       "      <td>...</td>\n",
       "      <td>...</td>\n",
       "    </tr>\n",
       "    <tr>\n",
       "      <th>41083</th>\n",
       "      <td>41084</td>\n",
       "      <td>1111</td>\n",
       "      <td>6</td>\n",
       "      <td>2015-08-01</td>\n",
       "      <td>1.0</td>\n",
       "      <td>0</td>\n",
       "      <td>0</td>\n",
       "      <td>0</td>\n",
       "    </tr>\n",
       "    <tr>\n",
       "      <th>41084</th>\n",
       "      <td>41085</td>\n",
       "      <td>1112</td>\n",
       "      <td>6</td>\n",
       "      <td>2015-08-01</td>\n",
       "      <td>1.0</td>\n",
       "      <td>0</td>\n",
       "      <td>0</td>\n",
       "      <td>0</td>\n",
       "    </tr>\n",
       "    <tr>\n",
       "      <th>41085</th>\n",
       "      <td>41086</td>\n",
       "      <td>1113</td>\n",
       "      <td>6</td>\n",
       "      <td>2015-08-01</td>\n",
       "      <td>1.0</td>\n",
       "      <td>0</td>\n",
       "      <td>0</td>\n",
       "      <td>0</td>\n",
       "    </tr>\n",
       "    <tr>\n",
       "      <th>41086</th>\n",
       "      <td>41087</td>\n",
       "      <td>1114</td>\n",
       "      <td>6</td>\n",
       "      <td>2015-08-01</td>\n",
       "      <td>1.0</td>\n",
       "      <td>0</td>\n",
       "      <td>0</td>\n",
       "      <td>0</td>\n",
       "    </tr>\n",
       "    <tr>\n",
       "      <th>41087</th>\n",
       "      <td>41088</td>\n",
       "      <td>1115</td>\n",
       "      <td>6</td>\n",
       "      <td>2015-08-01</td>\n",
       "      <td>1.0</td>\n",
       "      <td>0</td>\n",
       "      <td>0</td>\n",
       "      <td>1</td>\n",
       "    </tr>\n",
       "  </tbody>\n",
       "</table>\n",
       "<p>41088 rows × 8 columns</p>\n",
       "</div>"
      ],
      "text/plain": [
       "          Id  Store  DayOfWeek        Date  Open  Promo StateHoliday  \\\n",
       "0          1      1          4  2015-09-17   1.0      1            0   \n",
       "1          2      3          4  2015-09-17   1.0      1            0   \n",
       "2          3      7          4  2015-09-17   1.0      1            0   \n",
       "3          4      8          4  2015-09-17   1.0      1            0   \n",
       "4          5      9          4  2015-09-17   1.0      1            0   \n",
       "...      ...    ...        ...         ...   ...    ...          ...   \n",
       "41083  41084   1111          6  2015-08-01   1.0      0            0   \n",
       "41084  41085   1112          6  2015-08-01   1.0      0            0   \n",
       "41085  41086   1113          6  2015-08-01   1.0      0            0   \n",
       "41086  41087   1114          6  2015-08-01   1.0      0            0   \n",
       "41087  41088   1115          6  2015-08-01   1.0      0            0   \n",
       "\n",
       "       SchoolHoliday  \n",
       "0                  0  \n",
       "1                  0  \n",
       "2                  0  \n",
       "3                  0  \n",
       "4                  0  \n",
       "...              ...  \n",
       "41083              0  \n",
       "41084              0  \n",
       "41085              0  \n",
       "41086              0  \n",
       "41087              1  \n",
       "\n",
       "[41088 rows x 8 columns]"
      ]
     },
     "execution_count": 139,
     "metadata": {},
     "output_type": "execute_result"
    }
   ],
   "source": [
    "test_data"
   ]
  },
  {
   "cell_type": "code",
   "execution_count": 140,
   "metadata": {},
   "outputs": [
    {
     "name": "stdout",
     "output_type": "stream",
     "text": [
      "<class 'pandas.core.frame.DataFrame'>\n",
      "RangeIndex: 1017209 entries, 0 to 1017208\n",
      "Data columns (total 9 columns):\n",
      " #   Column         Non-Null Count    Dtype \n",
      "---  ------         --------------    ----- \n",
      " 0   Store          1017209 non-null  int64 \n",
      " 1   DayOfWeek      1017209 non-null  int64 \n",
      " 2   Date           1017209 non-null  object\n",
      " 3   Sales          1017209 non-null  int64 \n",
      " 4   Customers      1017209 non-null  int64 \n",
      " 5   Open           1017209 non-null  int64 \n",
      " 6   Promo          1017209 non-null  int64 \n",
      " 7   StateHoliday   1017209 non-null  object\n",
      " 8   SchoolHoliday  1017209 non-null  int64 \n",
      "dtypes: int64(7), object(2)\n",
      "memory usage: 69.8+ MB\n"
     ]
    }
   ],
   "source": [
    "train_data.info()"
   ]
  },
  {
   "cell_type": "code",
   "execution_count": 141,
   "metadata": {},
   "outputs": [],
   "source": [
    "train_data['Date']=pd.to_datetime(train_data['Date'])"
   ]
  },
  {
   "cell_type": "code",
   "execution_count": 142,
   "metadata": {},
   "outputs": [],
   "source": [
    "train_data['StateHoliday']=train_data['StateHoliday'].replace({'0':'NoHoliday','a':'PublicHoliday','b':'EasterHoliday','c':'ChristmasHoliday'})"
   ]
  },
  {
   "cell_type": "code",
   "execution_count": 143,
   "metadata": {},
   "outputs": [
    {
     "name": "stdout",
     "output_type": "stream",
     "text": [
      "<class 'pandas.core.frame.DataFrame'>\n",
      "RangeIndex: 1017209 entries, 0 to 1017208\n",
      "Data columns (total 9 columns):\n",
      " #   Column         Non-Null Count    Dtype         \n",
      "---  ------         --------------    -----         \n",
      " 0   Store          1017209 non-null  int64         \n",
      " 1   DayOfWeek      1017209 non-null  int64         \n",
      " 2   Date           1017209 non-null  datetime64[ns]\n",
      " 3   Sales          1017209 non-null  int64         \n",
      " 4   Customers      1017209 non-null  int64         \n",
      " 5   Open           1017209 non-null  int64         \n",
      " 6   Promo          1017209 non-null  int64         \n",
      " 7   StateHoliday   1017209 non-null  object        \n",
      " 8   SchoolHoliday  1017209 non-null  int64         \n",
      "dtypes: datetime64[ns](1), int64(7), object(1)\n",
      "memory usage: 69.8+ MB\n"
     ]
    }
   ],
   "source": [
    "train_data.info()"
   ]
  },
  {
   "cell_type": "code",
   "execution_count": 144,
   "metadata": {},
   "outputs": [
    {
     "data": {
      "text/plain": [
       "array(['NoHoliday', 'PublicHoliday', 'EasterHoliday', 'ChristmasHoliday',\n",
       "       0], dtype=object)"
      ]
     },
     "execution_count": 144,
     "metadata": {},
     "output_type": "execute_result"
    }
   ],
   "source": [
    "train_data['StateHoliday'].unique()"
   ]
  },
  {
   "cell_type": "code",
   "execution_count": 145,
   "metadata": {},
   "outputs": [],
   "source": [
    "train_data['StateHoliday']=train_data['StateHoliday'].replace({'NoHoliday':0, 'PublicHoliday':1, 'EsterHoliday':2, 'ChristmasHoliday':3})"
   ]
  },
  {
   "cell_type": "code",
   "execution_count": 146,
   "metadata": {},
   "outputs": [
    {
     "data": {
      "text/plain": [
       "0         2015-07-31\n",
       "1         2015-07-31\n",
       "2         2015-07-31\n",
       "3         2015-07-31\n",
       "4         2015-07-31\n",
       "             ...    \n",
       "1017204   2013-01-01\n",
       "1017205   2013-01-01\n",
       "1017206   2013-01-01\n",
       "1017207   2013-01-01\n",
       "1017208   2013-01-01\n",
       "Name: Date, Length: 1017209, dtype: datetime64[ns]"
      ]
     },
     "execution_count": 146,
     "metadata": {},
     "output_type": "execute_result"
    }
   ],
   "source": [
    "train_data['Date']"
   ]
  },
  {
   "cell_type": "code",
   "execution_count": 147,
   "metadata": {},
   "outputs": [
    {
     "data": {
      "text/plain": [
       "Store            0\n",
       "DayOfWeek        0\n",
       "Date             0\n",
       "Sales            0\n",
       "Customers        0\n",
       "Open             0\n",
       "Promo            0\n",
       "StateHoliday     0\n",
       "SchoolHoliday    0\n",
       "dtype: int64"
      ]
     },
     "execution_count": 147,
     "metadata": {},
     "output_type": "execute_result"
    }
   ],
   "source": [
    "train_data.isnull().sum()"
   ]
  },
  {
   "cell_type": "code",
   "execution_count": 148,
   "metadata": {},
   "outputs": [
    {
     "name": "stdout",
     "output_type": "stream",
     "text": [
      "<class 'pandas.core.frame.DataFrame'>\n",
      "RangeIndex: 41088 entries, 0 to 41087\n",
      "Data columns (total 8 columns):\n",
      " #   Column         Non-Null Count  Dtype  \n",
      "---  ------         --------------  -----  \n",
      " 0   Id             41088 non-null  int64  \n",
      " 1   Store          41088 non-null  int64  \n",
      " 2   DayOfWeek      41088 non-null  int64  \n",
      " 3   Date           41088 non-null  object \n",
      " 4   Open           41077 non-null  float64\n",
      " 5   Promo          41088 non-null  int64  \n",
      " 6   StateHoliday   41088 non-null  object \n",
      " 7   SchoolHoliday  41088 non-null  int64  \n",
      "dtypes: float64(1), int64(5), object(2)\n",
      "memory usage: 2.5+ MB\n"
     ]
    }
   ],
   "source": [
    "test_data.info()"
   ]
  },
  {
   "cell_type": "code",
   "execution_count": 149,
   "metadata": {},
   "outputs": [
    {
     "data": {
      "text/plain": [
       "array(['0', 'a'], dtype=object)"
      ]
     },
     "execution_count": 149,
     "metadata": {},
     "output_type": "execute_result"
    }
   ],
   "source": [
    "test_data['StateHoliday'].unique()"
   ]
  },
  {
   "cell_type": "code",
   "execution_count": 150,
   "metadata": {},
   "outputs": [],
   "source": [
    "test_data['StateHoliday']=test_data['StateHoliday'].replace({'0':'NoHoliday','a':'PublicHoliday'})"
   ]
  },
  {
   "cell_type": "code",
   "execution_count": 151,
   "metadata": {},
   "outputs": [
    {
     "data": {
      "text/plain": [
       "array(['NoHoliday', 'PublicHoliday'], dtype=object)"
      ]
     },
     "execution_count": 151,
     "metadata": {},
     "output_type": "execute_result"
    }
   ],
   "source": [
    "test_data['StateHoliday'].unique()"
   ]
  },
  {
   "cell_type": "code",
   "execution_count": 152,
   "metadata": {},
   "outputs": [],
   "source": [
    "test_data['StateHoliday']=test_data['StateHoliday'].replace({'NoHoliday':0, 'PublicHoliday':1})"
   ]
  },
  {
   "cell_type": "code",
   "execution_count": 153,
   "metadata": {},
   "outputs": [],
   "source": [
    "test_data['Date']=pd.to_datetime(test_data['Date'])"
   ]
  },
  {
   "cell_type": "code",
   "execution_count": 154,
   "metadata": {},
   "outputs": [
    {
     "data": {
      "text/plain": [
       "0       2015-09-17\n",
       "1       2015-09-17\n",
       "2       2015-09-17\n",
       "3       2015-09-17\n",
       "4       2015-09-17\n",
       "           ...    \n",
       "41083   2015-08-01\n",
       "41084   2015-08-01\n",
       "41085   2015-08-01\n",
       "41086   2015-08-01\n",
       "41087   2015-08-01\n",
       "Name: Date, Length: 41088, dtype: datetime64[ns]"
      ]
     },
     "execution_count": 154,
     "metadata": {},
     "output_type": "execute_result"
    }
   ],
   "source": [
    "test_data['Date']"
   ]
  },
  {
   "cell_type": "code",
   "execution_count": 155,
   "metadata": {},
   "outputs": [
    {
     "data": {
      "text/plain": [
       "Id                0\n",
       "Store             0\n",
       "DayOfWeek         0\n",
       "Date              0\n",
       "Open             11\n",
       "Promo             0\n",
       "StateHoliday      0\n",
       "SchoolHoliday     0\n",
       "dtype: int64"
      ]
     },
     "execution_count": 155,
     "metadata": {},
     "output_type": "execute_result"
    }
   ],
   "source": [
    "test_data.isnull().sum()"
   ]
  },
  {
   "cell_type": "code",
   "execution_count": 156,
   "metadata": {},
   "outputs": [],
   "source": [
    "test_data['Open']= test_data['Open'].fillna(method='ffill')"
   ]
  },
  {
   "cell_type": "code",
   "execution_count": 157,
   "metadata": {},
   "outputs": [],
   "source": [
    "test_data['Open'] = test_data['Open'].round().astype('int64')"
   ]
  },
  {
   "cell_type": "code",
   "execution_count": 158,
   "metadata": {},
   "outputs": [
    {
     "data": {
      "text/plain": [
       "Id               0\n",
       "Store            0\n",
       "DayOfWeek        0\n",
       "Date             0\n",
       "Open             0\n",
       "Promo            0\n",
       "StateHoliday     0\n",
       "SchoolHoliday    0\n",
       "dtype: int64"
      ]
     },
     "execution_count": 158,
     "metadata": {},
     "output_type": "execute_result"
    }
   ],
   "source": [
    "test_data.isnull().sum()"
   ]
  },
  {
   "cell_type": "code",
   "execution_count": 159,
   "metadata": {},
   "outputs": [
    {
     "name": "stdout",
     "output_type": "stream",
     "text": [
      "<class 'pandas.core.frame.DataFrame'>\n",
      "RangeIndex: 41088 entries, 0 to 41087\n",
      "Data columns (total 8 columns):\n",
      " #   Column         Non-Null Count  Dtype         \n",
      "---  ------         --------------  -----         \n",
      " 0   Id             41088 non-null  int64         \n",
      " 1   Store          41088 non-null  int64         \n",
      " 2   DayOfWeek      41088 non-null  int64         \n",
      " 3   Date           41088 non-null  datetime64[ns]\n",
      " 4   Open           41088 non-null  int64         \n",
      " 5   Promo          41088 non-null  int64         \n",
      " 6   StateHoliday   41088 non-null  int64         \n",
      " 7   SchoolHoliday  41088 non-null  int64         \n",
      "dtypes: datetime64[ns](1), int64(7)\n",
      "memory usage: 2.5 MB\n"
     ]
    }
   ],
   "source": [
    "test_data.info()"
   ]
  },
  {
   "cell_type": "code",
   "execution_count": 160,
   "metadata": {},
   "outputs": [
    {
     "data": {
      "text/plain": [
       "array([5, 4, 3, 2, 1, 7, 6], dtype=int64)"
      ]
     },
     "execution_count": 160,
     "metadata": {},
     "output_type": "execute_result"
    }
   ],
   "source": [
    "train_data['DayOfWeek'].unique()"
   ]
  },
  {
   "cell_type": "markdown",
   "metadata": {},
   "source": [
    "## Feature Extraction\n",
    "\n",
    "Feature extraction refers to the process of transforming raw data into a set of features that can be used as input to a machine learning model. In simpler terms, it involves selecting, combining, or transforming the original data into a format that is suitable for analysis and modeling."
   ]
  },
  {
   "cell_type": "markdown",
   "metadata": {},
   "source": [
    "## Extract Weekdays"
   ]
  },
  {
   "cell_type": "code",
   "execution_count": 161,
   "metadata": {},
   "outputs": [],
   "source": [
    "train_data['weekday'] = (train_data['DayOfWeek']<=5).astype('int64')"
   ]
  },
  {
   "cell_type": "code",
   "execution_count": 162,
   "metadata": {},
   "outputs": [
    {
     "data": {
      "text/plain": [
       "array([1, 0], dtype=int64)"
      ]
     },
     "execution_count": 162,
     "metadata": {},
     "output_type": "execute_result"
    }
   ],
   "source": [
    "train_data['weekday'].unique()"
   ]
  },
  {
   "cell_type": "markdown",
   "metadata": {},
   "source": [
    "* This code will assign a value of 1 to the 'weekday' column if the 'DayOfWeek' is less than or equal to 5 (Monday to Friday), and 0 otherwise. \n",
    "*  Facilitates easy segmentation of data based on weekdays and weekends for analysis."
   ]
  },
  {
   "cell_type": "markdown",
   "metadata": {},
   "source": [
    "## Extract Weekend"
   ]
  },
  {
   "cell_type": "code",
   "execution_count": 163,
   "metadata": {},
   "outputs": [],
   "source": [
    "train_data['weekend']=train_data['DayOfWeek'].isin([6,7]).astype('int64')"
   ]
  },
  {
   "cell_type": "code",
   "execution_count": 164,
   "metadata": {},
   "outputs": [
    {
     "data": {
      "text/plain": [
       "array([0, 1], dtype=int64)"
      ]
     },
     "execution_count": 164,
     "metadata": {},
     "output_type": "execute_result"
    }
   ],
   "source": [
    "train_data['weekend'].unique()"
   ]
  },
  {
   "cell_type": "markdown",
   "metadata": {},
   "source": [
    "* This will create a new column where the value is 1 if the 'DayOfWeek' is 6 (Saturday) or 7 (Sunday), and 0 otherwise (indicating a weekday). \n",
    "* This method then converts these Boolean values into integers (1 for True, 0 for False)\n",
    "* This binary representation simplifies the analysis by clearly distinguishing between weekend and weekday observations within the dataset"
   ]
  },
  {
   "cell_type": "markdown",
   "metadata": {},
   "source": [
    "## Number of days to Holidays"
   ]
  },
  {
   "cell_type": "code",
   "execution_count": 165,
   "metadata": {},
   "outputs": [
    {
     "name": "stdout",
     "output_type": "stream",
     "text": [
      "Total number of holidays: 338957\n"
     ]
    }
   ],
   "source": [
    "def count_holidays(row):\n",
    "    is_holiday = row['StateHoliday'] != 0 or row['SchoolHoliday'] != 0 or row['DayOfWeek'] ==7\n",
    "    return int(is_holiday)\n",
    "\n",
    "train_data['is_holiday'] = train_data.apply(count_holidays, axis=1)\n",
    "total_holidays = train_data['is_holiday'].sum()\n",
    "\n",
    "print(\"Total number of holidays:\", total_holidays)"
   ]
  },
  {
   "cell_type": "markdown",
   "metadata": {},
   "source": [
    "##### *Interpretation*\n",
    "\n",
    "* Holidays are identified based on different conditions such as state holidays, school holidays, and Sundays.\n",
    "* State holidays are indicated by the values 1, 2, or 3 in the 'StateHoliday' column.\n",
    "* School holidays are indicated by the value 1 in the 'SchoolHoliday' column.\n",
    "* Sundays are considered holidays as well, as indicated by the value 7 in the 'DayOfWeek' column.\n",
    "* The output indicates that there are *338,957 holidays*"
   ]
  },
  {
   "cell_type": "markdown",
   "metadata": {},
   "source": [
    "## Number of days after Holidays"
   ]
  },
  {
   "cell_type": "code",
   "execution_count": 166,
   "metadata": {},
   "outputs": [],
   "source": [
    "def is_day_after_holiday(row):\n",
    "    if row['is_holiday'] == 1:\n",
    "        return 0  \n",
    "    elif train_data.iloc[row.name - 1]['is_holiday'] == 1:\n",
    "        return 1  \n",
    "    else:\n",
    "        return 0 \n",
    "\n",
    "train_data['DayAfterHoliday'] = train_data.apply(is_day_after_holiday,axis=1)"
   ]
  },
  {
   "cell_type": "code",
   "execution_count": 167,
   "metadata": {},
   "outputs": [
    {
     "data": {
      "text/plain": [
       "0    958578\n",
       "1     58631\n",
       "Name: DayAfterHoliday, dtype: int64"
      ]
     },
     "execution_count": 167,
     "metadata": {},
     "output_type": "execute_result"
    }
   ],
   "source": [
    "train_data['DayAfterHoliday'].value_counts()"
   ]
  },
  {
   "cell_type": "markdown",
   "metadata": {},
   "source": [
    "#### *Interpretation*\n",
    "\n",
    "* The provided code defines a function is_day_after_holiday(row) to determine if a particular day in the dataset is the day after a holiday. It assigns a value of 1 if the day after the current day (based on the row index) is marked as a holiday in the 'Holiday' column. Otherwise, it assigns a value of 0.\n",
    "\n",
    "* The function resulting in the creation of a new column 'DayAfterHoliday' that contains binary values indicating whether each day is the day after a holiday or not.\n",
    "\n",
    "* The output shows the count of occurrences for each unique value in the 'DayAfterHoliday' column. It indicates that there are 958,578 days classified as not being the day after a holiday (0), and 58,631 days classified as being the day after a holiday (1)."
   ]
  },
  {
   "cell_type": "markdown",
   "metadata": {},
   "source": [
    "## Day Before Holiday"
   ]
  },
  {
   "cell_type": "code",
   "execution_count": 168,
   "metadata": {},
   "outputs": [],
   "source": [
    "def is_day_before_holiday(row):\n",
    "    if row['is_holiday'] == 1:\n",
    "        return 1  \n",
    "    else:\n",
    "        return 0  \n",
    "\n",
    "train_data['DayBeforeHoliday'] = train_data.apply(is_day_before_holiday,axis=1)"
   ]
  },
  {
   "cell_type": "code",
   "execution_count": 169,
   "metadata": {},
   "outputs": [
    {
     "data": {
      "text/plain": [
       "0    678252\n",
       "1    338957\n",
       "Name: DayBeforeHoliday, dtype: int64"
      ]
     },
     "execution_count": 169,
     "metadata": {},
     "output_type": "execute_result"
    }
   ],
   "source": [
    "train_data['DayBeforeHoliday'].value_counts()"
   ]
  },
  {
   "cell_type": "markdown",
   "metadata": {},
   "source": [
    "#### *Interpretation*\n",
    "\n",
    "* The provided code defines a function is_day_before_holiday(row) to determine if a particular day in the dataset is the day before a holiday. It assigns a value of 1 if the 'Holiday' column for that day is marked as 1 (indicating a holiday), and 0 otherwise.\n",
    "\n",
    "* The function is then applied to each row resulting in the creation of a new column 'DayBeforeHoliday' that contains binary values indicating whether each day is the day before a holiday or not.\n",
    "\n",
    "* The output  shows the count of occurrences for each unique value in the 'DayBeforeHoliday' column. It indicates that there are 678,252 days classified as not being the day before a holiday (0), and 338,957 days classified as being the day before a holiday (1)."
   ]
  },
  {
   "cell_type": "markdown",
   "metadata": {},
   "source": [
    "## Extract- Beginning of month, mid month and ending of month"
   ]
  },
  {
   "cell_type": "code",
   "execution_count": 170,
   "metadata": {},
   "outputs": [],
   "source": [
    "def extract_month_features(row):\n",
    "    day_of_month = row['Date'].day\n",
    "    total_days_in_month = row['Date'].days_in_month\n",
    "    \n",
    "    if day_of_month <= 10:\n",
    "        return 'BeginningOfMonth'\n",
    "    elif day_of_month > 10 and day_of_month <= total_days_in_month - 10:\n",
    "        return 'MidMonth'\n",
    "    else:\n",
    "        return 'EndOfMonth'\n",
    "\n",
    "train_data['MonthPart'] = train_data.apply(extract_month_features, axis=1)\n"
   ]
  },
  {
   "cell_type": "code",
   "execution_count": 171,
   "metadata": {},
   "outputs": [
    {
     "data": {
      "text/plain": [
       "array(['EndOfMonth', 'MidMonth', 'BeginningOfMonth'], dtype=object)"
      ]
     },
     "execution_count": 171,
     "metadata": {},
     "output_type": "execute_result"
    }
   ],
   "source": [
    "train_data['MonthPart'].unique()"
   ]
  },
  {
   "cell_type": "code",
   "execution_count": 172,
   "metadata": {},
   "outputs": [
    {
     "data": {
      "text/plain": [
       "MidMonth            347510\n",
       "EndOfMonth          334850\n",
       "BeginningOfMonth    334849\n",
       "Name: MonthPart, dtype: int64"
      ]
     },
     "execution_count": 172,
     "metadata": {},
     "output_type": "execute_result"
    }
   ],
   "source": [
    "train_data['MonthPart'].value_counts()"
   ]
  },
  {
   "cell_type": "markdown",
   "metadata": {},
   "source": [
    "#### *Interpretation*\n",
    "\n",
    "The function then checks the day of the month and categorizes it accordingly:\n",
    "\n",
    "* If the day of the month is on or before the 10th day, it is classified as 'BeginningOfMonth'.\n",
    "* If the day of the month is after the 10th day and before or on the 10 days before the end of the month, it is classified as 'MidMonth'.\n",
    "* Otherwise, it is classified as 'EndOfMonth'.\n",
    "* The output shows that there are 347,510 days classified as 'MidMonth', 334,850 days classified as 'EndOfMonth', and 334,849 days classified as 'BeginningOfMonth'."
   ]
  },
  {
   "cell_type": "markdown",
   "metadata": {},
   "source": [
    "## Extract Date features"
   ]
  },
  {
   "cell_type": "code",
   "execution_count": 173,
   "metadata": {},
   "outputs": [
    {
     "data": {
      "text/html": [
       "<div>\n",
       "<style scoped>\n",
       "    .dataframe tbody tr th:only-of-type {\n",
       "        vertical-align: middle;\n",
       "    }\n",
       "\n",
       "    .dataframe tbody tr th {\n",
       "        vertical-align: top;\n",
       "    }\n",
       "\n",
       "    .dataframe thead th {\n",
       "        text-align: right;\n",
       "    }\n",
       "</style>\n",
       "<table border=\"1\" class=\"dataframe\">\n",
       "  <thead>\n",
       "    <tr style=\"text-align: right;\">\n",
       "      <th></th>\n",
       "      <th>Store</th>\n",
       "      <th>DayOfWeek</th>\n",
       "      <th>Date</th>\n",
       "      <th>Sales</th>\n",
       "      <th>Customers</th>\n",
       "      <th>Open</th>\n",
       "      <th>Promo</th>\n",
       "      <th>StateHoliday</th>\n",
       "      <th>SchoolHoliday</th>\n",
       "      <th>weekday</th>\n",
       "      <th>...</th>\n",
       "      <th>DayBeforeHoliday</th>\n",
       "      <th>MonthPart</th>\n",
       "      <th>DayOfMonth</th>\n",
       "      <th>Month</th>\n",
       "      <th>Year</th>\n",
       "      <th>Quarter</th>\n",
       "      <th>DayOfYear</th>\n",
       "      <th>WeekOfYear</th>\n",
       "      <th>IsWeekday</th>\n",
       "      <th>IsWeekend</th>\n",
       "    </tr>\n",
       "  </thead>\n",
       "  <tbody>\n",
       "    <tr>\n",
       "      <th>0</th>\n",
       "      <td>1</td>\n",
       "      <td>5</td>\n",
       "      <td>2015-07-31</td>\n",
       "      <td>5263</td>\n",
       "      <td>555</td>\n",
       "      <td>1</td>\n",
       "      <td>1</td>\n",
       "      <td>0</td>\n",
       "      <td>1</td>\n",
       "      <td>1</td>\n",
       "      <td>...</td>\n",
       "      <td>1</td>\n",
       "      <td>EndOfMonth</td>\n",
       "      <td>31</td>\n",
       "      <td>7</td>\n",
       "      <td>2015</td>\n",
       "      <td>3</td>\n",
       "      <td>212</td>\n",
       "      <td>31</td>\n",
       "      <td>0</td>\n",
       "      <td>1</td>\n",
       "    </tr>\n",
       "    <tr>\n",
       "      <th>1</th>\n",
       "      <td>2</td>\n",
       "      <td>5</td>\n",
       "      <td>2015-07-31</td>\n",
       "      <td>6064</td>\n",
       "      <td>625</td>\n",
       "      <td>1</td>\n",
       "      <td>1</td>\n",
       "      <td>0</td>\n",
       "      <td>1</td>\n",
       "      <td>1</td>\n",
       "      <td>...</td>\n",
       "      <td>1</td>\n",
       "      <td>EndOfMonth</td>\n",
       "      <td>31</td>\n",
       "      <td>7</td>\n",
       "      <td>2015</td>\n",
       "      <td>3</td>\n",
       "      <td>212</td>\n",
       "      <td>31</td>\n",
       "      <td>0</td>\n",
       "      <td>1</td>\n",
       "    </tr>\n",
       "    <tr>\n",
       "      <th>2</th>\n",
       "      <td>3</td>\n",
       "      <td>5</td>\n",
       "      <td>2015-07-31</td>\n",
       "      <td>8314</td>\n",
       "      <td>821</td>\n",
       "      <td>1</td>\n",
       "      <td>1</td>\n",
       "      <td>0</td>\n",
       "      <td>1</td>\n",
       "      <td>1</td>\n",
       "      <td>...</td>\n",
       "      <td>1</td>\n",
       "      <td>EndOfMonth</td>\n",
       "      <td>31</td>\n",
       "      <td>7</td>\n",
       "      <td>2015</td>\n",
       "      <td>3</td>\n",
       "      <td>212</td>\n",
       "      <td>31</td>\n",
       "      <td>0</td>\n",
       "      <td>1</td>\n",
       "    </tr>\n",
       "    <tr>\n",
       "      <th>3</th>\n",
       "      <td>4</td>\n",
       "      <td>5</td>\n",
       "      <td>2015-07-31</td>\n",
       "      <td>13995</td>\n",
       "      <td>1498</td>\n",
       "      <td>1</td>\n",
       "      <td>1</td>\n",
       "      <td>0</td>\n",
       "      <td>1</td>\n",
       "      <td>1</td>\n",
       "      <td>...</td>\n",
       "      <td>1</td>\n",
       "      <td>EndOfMonth</td>\n",
       "      <td>31</td>\n",
       "      <td>7</td>\n",
       "      <td>2015</td>\n",
       "      <td>3</td>\n",
       "      <td>212</td>\n",
       "      <td>31</td>\n",
       "      <td>0</td>\n",
       "      <td>1</td>\n",
       "    </tr>\n",
       "    <tr>\n",
       "      <th>4</th>\n",
       "      <td>5</td>\n",
       "      <td>5</td>\n",
       "      <td>2015-07-31</td>\n",
       "      <td>4822</td>\n",
       "      <td>559</td>\n",
       "      <td>1</td>\n",
       "      <td>1</td>\n",
       "      <td>0</td>\n",
       "      <td>1</td>\n",
       "      <td>1</td>\n",
       "      <td>...</td>\n",
       "      <td>1</td>\n",
       "      <td>EndOfMonth</td>\n",
       "      <td>31</td>\n",
       "      <td>7</td>\n",
       "      <td>2015</td>\n",
       "      <td>3</td>\n",
       "      <td>212</td>\n",
       "      <td>31</td>\n",
       "      <td>0</td>\n",
       "      <td>1</td>\n",
       "    </tr>\n",
       "  </tbody>\n",
       "</table>\n",
       "<p>5 rows × 23 columns</p>\n",
       "</div>"
      ],
      "text/plain": [
       "   Store  DayOfWeek       Date  Sales  Customers  Open  Promo StateHoliday  \\\n",
       "0      1          5 2015-07-31   5263        555     1      1            0   \n",
       "1      2          5 2015-07-31   6064        625     1      1            0   \n",
       "2      3          5 2015-07-31   8314        821     1      1            0   \n",
       "3      4          5 2015-07-31  13995       1498     1      1            0   \n",
       "4      5          5 2015-07-31   4822        559     1      1            0   \n",
       "\n",
       "   SchoolHoliday  weekday  ...  DayBeforeHoliday   MonthPart  DayOfMonth  \\\n",
       "0              1        1  ...                 1  EndOfMonth          31   \n",
       "1              1        1  ...                 1  EndOfMonth          31   \n",
       "2              1        1  ...                 1  EndOfMonth          31   \n",
       "3              1        1  ...                 1  EndOfMonth          31   \n",
       "4              1        1  ...                 1  EndOfMonth          31   \n",
       "\n",
       "   Month  Year  Quarter  DayOfYear  WeekOfYear  IsWeekday  IsWeekend  \n",
       "0      7  2015        3        212          31          0          1  \n",
       "1      7  2015        3        212          31          0          1  \n",
       "2      7  2015        3        212          31          0          1  \n",
       "3      7  2015        3        212          31          0          1  \n",
       "4      7  2015        3        212          31          0          1  \n",
       "\n",
       "[5 rows x 23 columns]"
      ]
     },
     "execution_count": 173,
     "metadata": {},
     "output_type": "execute_result"
    }
   ],
   "source": [
    "def extract_date_features(df):\n",
    "    df['DayOfMonth'] = df['Date'].dt.day\n",
    "    df['Month'] = df['Date'].dt.month\n",
    "    df['Year'] = df['Date'].dt.year\n",
    "    df['Quarter'] = df['Date'].dt.quarter\n",
    "    df['DayOfYear'] = df['Date'].dt.dayofyear\n",
    "    df['WeekOfYear'] = df['Date'].dt.isocalendar().week\n",
    "    df['IsWeekday'] = df['DayOfWeek'].isin([0, 1, 2, 3, 4]).astype(int)  # 0: Monday, 1: Tuesday, ..., 4: Friday\n",
    "    df['IsWeekend'] = df['DayOfWeek'].isin([5, 6]).astype(int)  # 5: Saturday, 6: Sunday\n",
    "\n",
    "extract_date_features(train_data)\n",
    "train_data.head()"
   ]
  },
  {
   "cell_type": "markdown",
   "metadata": {},
   "source": [
    "#### *Interpretation*\n",
    "\n",
    "* *DayOfMonth:* The day of the month (1-31), Identifies the day of the month for each observation, aiding in analyzing daily trends.\n",
    "* *Month:* The month (1-12),  Indicates the month of the year, helping understand seasonal variations and long-term trends.\n",
    "* *Year:* The year, Represents the year of each observation, useful for comparing annual performance.\n",
    "* *Quarter:* The quarter of the year (1-4), Divides the year into quarters, assisting in quarterly reporting and planning.\n",
    "* *DayOfYear:* The day of the year (1-365/366), Indicates the day of the year, providing insights into annual cycles and seasonal patterns.\n",
    "* *WeekOfYear:* The week of the year (ISO 8601 week date standard), Assigns each observation to a week of the year, aiding in analyzing weekly trends.\n",
    "* *IsWeekday & IsWeekend:* Indicator whether the day is a weekday (1) or not (0), weekend (1) or not (0), Binary indicators distinguishing weekdays from weekends, facilitating analysis of consumer behavior and operational requirements."
   ]
  },
  {
   "cell_type": "markdown",
   "metadata": {},
   "source": [
    "## Extract Average Sales per store"
   ]
  },
  {
   "cell_type": "code",
   "execution_count": 174,
   "metadata": {},
   "outputs": [],
   "source": [
    "def average_sales_customers_per_store(df):\n",
    "    avg_sales_per_store = df.groupby('Store')['Sales'].mean().rename('AvgSalesPerStore')\n",
    "    avg_customers_per_store = df.groupby('Store')['Customers'].mean().rename('AvgCustomersPerStore')\n",
    "    return avg_sales_per_store, avg_customers_per_store\n",
    "\n",
    "avg_sales_per_store, avg_customers_per_store = average_sales_customers_per_store(train_data)"
   ]
  },
  {
   "cell_type": "code",
   "execution_count": 175,
   "metadata": {},
   "outputs": [
    {
     "data": {
      "image/png": "[encoded data removed]",
      "text/plain": [
       "<Figure size 800x500 with 1 Axes>"
      ]
     },
     "metadata": {},
     "output_type": "display_data"
    }
   ],
   "source": [
    "plt.figure(figsize=(8, 5))\n",
    "plt.plot(avg_sales_per_store, label='Average Sales per Store', color='blue')\n",
    "plt.plot(avg_customers_per_store, label='Average Customers per Store', color='orange')\n",
    "plt.title('Average Sales and Customers per Store')\n",
    "plt.xlabel('Store')\n",
    "plt.ylabel('Average')\n",
    "plt.legend()\n",
    "plt.grid(True)\n",
    "plt.show()"
   ]
  },
  {
   "cell_type": "markdown",
   "metadata": {},
   "source": [
    "#### *Interpretation*\n",
    "\n",
    "* Average Sales per Store: The blue line represents the average sales per store across all stores. From the plot, it's observed that certain stores have notably higher average sales compared to others. Stores around index 250-300 exhibit a spike in average sales, reaching up to approximately 40,000. Additionally, stores around index 550, 810, and 1150 also demonstrate higher average sales, ranging between 17,500 to 18,000.\n",
    "\n",
    "* Average Customers per Store: The orange line depicts the average number of customers per store. Similar to average sales, certain stores show higher average customer counts. Stores around index 250-300 exhibit a peak in average customer count, reaching up to approximately 4000. Additionally, stores around index 550 and 700-800 also demonstrate higher average customer counts.\n",
    "\n",
    "* Comparative Analysis: By comparing the trends of average sales and average customers per store, it's evident that there's a correlation between the two metrics. Stores with higher average sales tend to attract more customers on average.\n",
    "\n",
    "#### *Conclusion*\n",
    "\n",
    "The plot highlights stores with exceptional performance in terms of average sales and average customer count. These stores could be subject to potentially providing insights that can be replicated in other stores to improve overall performance."
   ]
  },
  {
   "cell_type": "markdown",
   "metadata": {},
   "source": [
    "## Extract Average Sales per customer & week"
   ]
  },
  {
   "cell_type": "code",
   "execution_count": 176,
   "metadata": {},
   "outputs": [],
   "source": [
    "def average_sales_customers_per_day_of_week(df):\n",
    "    avg_sales_per_dow = df.groupby('DayOfWeek')['Sales'].mean().rename('AvgSalesPerDOW')\n",
    "    avg_customers_per_dow = df.groupby('DayOfWeek')['Customers'].mean().rename('AvgCustomersPerDOW')\n",
    "    return avg_sales_per_dow, avg_customers_per_dow\n",
    "\n",
    "avg_sales_per_dow, avg_customers_per_dow = average_sales_customers_per_day_of_week(train_data)"
   ]
  },
  {
   "cell_type": "code",
   "execution_count": 177,
   "metadata": {},
   "outputs": [
    {
     "data": {
      "image/png": "[encoded data removed]",
      "text/plain": [
       "<Figure size 800x300 with 1 Axes>"
      ]
     },
     "metadata": {},
     "output_type": "display_data"
    }
   ],
   "source": [
    "plt.figure(figsize=(8, 3))\n",
    "days_of_week = ['Monday', 'Tuesday', 'Wednesday', 'Thursday', 'Friday', 'Saturday', 'Sunday']\n",
    "plt.bar(days_of_week, avg_sales_per_dow, label='Average Sales per day of week', color='blue', alpha=0.2, edgecolor='black')\n",
    "plt.bar(days_of_week, avg_customers_per_dow, label='Average Customers per day of week', color='red', alpha=0.5, edgecolor='black')\n",
    "plt.title('Average Sales and Customers per day of week')\n",
    "plt.xlabel('Days')\n",
    "plt.ylabel('Average')\n",
    "plt.legend()\n",
    "plt.show()"
   ]
  },
  {
   "cell_type": "markdown",
   "metadata": {},
   "source": [
    "#### *Interpretation*\n",
    "\n",
    "The code calculates the average sales and average number of customers per day of the week (DOW) from the input DataFrame df. It then plots these averages on a bar chart, where each bar represents a day of the week. The blue bars represent the average sales per day of the week, while the red bars represent the average number of customers per day of the week.\n",
    "\n",
    "#### *Analysis*\n",
    "\n",
    "*Average Sales per Day of the Week (DOW):*\n",
    "\n",
    "* Mondays (Day 1) have the highest average sales, followed by Fridays (Day 5) and Tuesdays (Day 2).\n",
    "* Sundays (Day 7) have the lowest average sales.\n",
    "\n",
    "*Average Customers per Day of the Week (DOW):*\n",
    "\n",
    "* Similar to average sales, Mondays (Day 1) have the highest average number of customers, followed by Fridays (Day 5) and Tuesdays (Day 2).\n",
    "* Sundays (Day 7) have the lowest average number of customers.\n",
    "\n",
    "*Comparison:*\n",
    "\n",
    "* There is consistency between the average sales and average number of customers per day of the week. Days with higher average sales also tend to have higher average customer counts.\n",
    "\n",
    "#### *Conclusion*\n",
    "\n",
    "* The bar chart provides a visual representation of the average sales and customer trends across different days of the week, allowing for easy comparison and identification of patterns.\n",
    "* Understanding these trends can help businesses optimize staffing, inventory management, and marketing strategies to align with peak sales periods and maximize revenue.\n",
    "* The consistent relationship between average sales and customers underscores the importance of understanding customer behavior and preferences in driving sales performance."
   ]
  },
  {
   "cell_type": "markdown",
   "metadata": {},
   "source": [
    "## Extract Sale during Promo days and Non Promo days"
   ]
  },
  {
   "cell_type": "code",
   "execution_count": 178,
   "metadata": {},
   "outputs": [],
   "source": [
    "promo_sales = train_data[train_data['Promo'] == 1].groupby('Store')['Sales'].sum()\n",
    "non_promo_sales = train_data[train_data['Promo'] == 0].groupby('Store')['Sales'].sum()"
   ]
  },
  {
   "cell_type": "code",
   "execution_count": 179,
   "metadata": {},
   "outputs": [
    {
     "data": {
      "image/png": "[encoded data removed]",
      "text/plain": [
       "<Figure size 800x500 with 1 Axes>"
      ]
     },
     "metadata": {},
     "output_type": "display_data"
    }
   ],
   "source": [
    "plt.figure(figsize=(8, 5))\n",
    "plt.bar(promo_sales.index, promo_sales.values, color='blue', alpha=0.7, label='Promo Days')\n",
    "plt.bar(non_promo_sales.index, non_promo_sales.values, color='orange', alpha=0.7, label='Non-Promo Days')\n",
    "plt.xlabel('Store')\n",
    "plt.ylabel('Total Sales')\n",
    "plt.title('Total Sales for Each Store During Promo and Non-Promo Days')\n",
    "plt.legend()\n",
    "plt.xticks(rotation=90)\n",
    "plt.tight_layout()\n",
    "plt.show()"
   ]
  },
  {
   "cell_type": "markdown",
   "metadata": {},
   "source": [
    "## Frequency of Promotion"
   ]
  },
  {
   "cell_type": "code",
   "execution_count": 180,
   "metadata": {},
   "outputs": [
    {
     "name": "stdout",
     "output_type": "stream",
     "text": [
      "Frequency of promotions: 0.3815145166824124\n"
     ]
    }
   ],
   "source": [
    "def calculate_promotion_frequency(df):\n",
    "    promotion_frequency = df['Promo'].mean()\n",
    "    return promotion_frequency\n",
    "\n",
    "# Example usage:\n",
    "promotion_frequency = calculate_promotion_frequency(train_data)\n",
    "print(\"Frequency of promotions:\", promotion_frequency)"
   ]
  },
  {
   "cell_type": "markdown",
   "metadata": {},
   "source": [
    "#### *Interpretation & Conclusuion*\n",
    "\n",
    "* The calculated promotion frequency of approximately 38.15% suggests that promotions are active for nearly 38.15% of the time period covered by the dataset. \n",
    "* This indicates that promotions are implemented relatively frequently within the observed timeframe, which can have implications for sales performance, customer behavior, and overall business strategy.\n",
    "* Understanding the frequency of promotions can help businesses assess the effectiveness of promotional strategies, allocate resources appropriately, and optimize promotional campaigns to maximize their impact on sales and customer engagement."
   ]
  },
  {
   "cell_type": "markdown",
   "metadata": {},
   "source": [
    "## Average duration of Promotions"
   ]
  },
  {
   "cell_type": "code",
   "execution_count": 181,
   "metadata": {},
   "outputs": [
    {
     "name": "stdout",
     "output_type": "stream",
     "text": [
      "Average duration of promotions: 9.112676056338028\n"
     ]
    }
   ],
   "source": [
    "def calculate_average_promo_duration(df):\n",
    "    promo_start_indices = df[df['Promo'].diff() == 1].index\n",
    "    promo_end_indices = df[df['Promo'].diff() == -1].index\n",
    "    promo_start_dates = df.loc[promo_start_indices, 'Date']\n",
    "    promo_end_dates = df.loc[promo_end_indices, 'Date']\n",
    "    promo_durations = [(end - start).days + 1 for start, end in zip(promo_start_dates, promo_end_dates)]\n",
    "    average_promo_duration = sum(promo_durations) / len(promo_durations) if promo_durations else 0\n",
    "    return average_promo_duration\n",
    "\n",
    "average_promo_duration = calculate_average_promo_duration(train_data)\n",
    "print(\"Average duration of promotions:\", average_promo_duration)"
   ]
  },
  {
   "cell_type": "markdown",
   "metadata": {},
   "source": [
    "#### *Interpretation*\n",
    "\n",
    "* The average promotion duration of 9.11 days indicates that, on average, promotions last for approximately 9 days within the dataset.\n",
    "* This suggests that promotions implemented by the stores are relatively short-term in nature, lasting for a little over a week on average.\n",
    "\n",
    "#### *Analysis*\n",
    "\n",
    "* Short-term promotions may be effective in stimulating immediate sales and creating a sense of urgency among customers.\n",
    "* However, the relatively short duration also implies that stores may frequently introduce new promotions to maintain customer interest and engagement.\n",
    "* Analyzing promotion duration helps businesses understand the effectiveness of their promotional strategies and optimize them for maximum impact on sales and customer behavior."
   ]
  },
  {
   "cell_type": "markdown",
   "metadata": {},
   "source": [
    "## Promotion by day of Week"
   ]
  },
  {
   "cell_type": "code",
   "execution_count": 182,
   "metadata": {},
   "outputs": [
    {
     "name": "stdout",
     "output_type": "stream",
     "text": [
      "Promotion by day of the week:\n",
      " DayOfWeek\n",
      "1    0.537276\n",
      "2    0.532596\n",
      "3    0.532592\n",
      "4    0.531935\n",
      "5    0.531935\n",
      "6    0.000000\n",
      "7    0.000000\n",
      "Name: Promo, dtype: float64\n"
     ]
    }
   ],
   "source": [
    "def calculate_promotion_by_day_of_week(df):\n",
    "    promo_by_dow = df.groupby('DayOfWeek')['Promo'].mean()\n",
    "    return promo_by_dow\n",
    "\n",
    "# Example usage:\n",
    "promo_by_dow = calculate_promotion_by_day_of_week(train_data)\n",
    "print(\"Promotion by day of the week:\\n\",promo_by_dow)"
   ]
  },
  {
   "cell_type": "code",
   "execution_count": 183,
   "metadata": {},
   "outputs": [
    {
     "data": {
      "image/png": "[encoded data removed]",
      "text/plain": [
       "<Figure size 640x480 with 1 Axes>"
      ]
     },
     "metadata": {},
     "output_type": "display_data"
    }
   ],
   "source": [
    "def plot_promotion_by_day_of_week(promo_by_dow):\n",
    "    days_of_week = ['Monday', 'Tuesday', 'Wednesday', 'Thursday', 'Friday', 'Saturday', 'Sunday']\n",
    "    plt.bar(days_of_week, promo_by_dow, color='lightcoral', edgecolor='black')\n",
    "    plt.title('Promotion Frequency by Day of the Week')\n",
    "    plt.xlabel('Day of the Week')\n",
    "    plt.ylabel('Promotion Frequency')\n",
    "    plt.xticks(rotation=45)\n",
    "    plt.show()\n",
    "plot_promotion_by_day_of_week(promo_by_dow)"
   ]
  },
  {
   "cell_type": "markdown",
   "metadata": {},
   "source": [
    "#### *Interpretation*\n",
    "\n",
    "* The function calculate_promotion_by_day_of_week calculates the average frequency of promotions for each day of the week (DOW) within the dataset. The result indicates the proportion of days within each day of the week that have promotions. The subsequent function plot_promotion_by_day_of_week visualizes this information on a bar chart, with each bar representing a day of the week.\n",
    "\n",
    "#### *Analysis*\n",
    "\n",
    "*Promotion Frequency by Day of the Week:*\n",
    "\n",
    "* Promotions are most frequently observed on Mondays, Tuesdays, Wednesdays, Thursdays, and Fridays, with approximately 53% of these days featuring promotions.\n",
    "* Saturdays and Sundays, however, show no promotions, with a promotion frequency of 0%.\n",
    "\n",
    "*Temporal Patterns:*\n",
    "\n",
    "* The analysis reveals a concentration of promotions during weekdays, particularly from Monday to Friday, corresponding to typical business days.\n",
    "* The absence of promotions on weekends suggests a potential opportunity for businesses to explore promotional strategies aimed at capturing weekend consumer traffic.\n",
    "\n",
    "*Impact on Sales Strategy:*\n",
    "\n",
    "* Understanding the distribution of promotions by day of the week can inform sales and marketing strategies. Businesses may choose to intensify promotions during peak days (e.g., weekdays) to capitalize on higher consumer engagement.\n",
    "\n",
    "*Customer Behavior Consideration:*\n",
    "\n",
    "* Analyzing promotion frequency by day of the week provides insights into consumer behavior patterns, helping businesses tailor promotional efforts to align with customer preferences and shopping habits.\n",
    "\n",
    "#### *Conclusion*\n",
    "\n",
    "* The analysis underscores the importance of considering temporal factors, such as day of the week, in promotional planning and strategy development.\n",
    "* By strategically scheduling promotions to coincide with peak consumer activity, businesses can optimize their promotional effectiveness and drive sales growth.\n",
    "* Additionally, understanding the absence of promotions on weekends presents an opportunity for businesses to explore targeted promotional campaigns to stimulate weekend sales and enhance overall revenue generation\n"
   ]
  },
  {
   "cell_type": "markdown",
   "metadata": {},
   "source": [
    "## Ratio of Sales to the customer "
   ]
  },
  {
   "cell_type": "code",
   "execution_count": 184,
   "metadata": {},
   "outputs": [
    {
     "data": {
      "text/plain": [
       "0     9.482883\n",
       "1     9.702400\n",
       "2    10.126675\n",
       "3     9.342457\n",
       "4     8.626118\n",
       "Name: Sales_to_Customers_Ratio, dtype: float64"
      ]
     },
     "execution_count": 184,
     "metadata": {},
     "output_type": "execute_result"
    }
   ],
   "source": [
    "def calculate_sales_to_customers_ratio(df):\n",
    "    df['Sales_to_Customers_Ratio'] = df['Sales'] / df['Customers']\n",
    "    return df['Sales_to_Customers_Ratio']\n",
    "\n",
    "sales_to_customers_ratio = calculate_sales_to_customers_ratio(train_data)\n",
    "sales_to_customers_ratio.head()"
   ]
  },
  {
   "cell_type": "markdown",
   "metadata": {},
   "source": [
    "##### *Interpretation* \n",
    "\n",
    "* The function calculate_sales_to_customers_ratio computes the sales-to-customers ratio for each observation in the dataset. \n",
    "* This ratio provides insight into the efficiency of converting customer visits into sales. A higher ratio indicates that, on average, each customer contributes more to sales, suggesting better sales performance relative to customer foot traffic. \n",
    "* Conversely, a lower ratio may indicate inefficiencies in sales conversion or lower average transaction values."
   ]
  },
  {
   "cell_type": "markdown",
   "metadata": {},
   "source": [
    "## Ratio of Sales to the number of stores is open"
   ]
  },
  {
   "cell_type": "code",
   "execution_count": 185,
   "metadata": {},
   "outputs": [
    {
     "data": {
      "text/plain": [
       "0     5263.0\n",
       "1     6064.0\n",
       "2     8314.0\n",
       "3    13995.0\n",
       "4     4822.0\n",
       "Name: Sales_to_Stores_Open_Ratio, dtype: float64"
      ]
     },
     "execution_count": 185,
     "metadata": {},
     "output_type": "execute_result"
    }
   ],
   "source": [
    "def calculate_sales_to_stores_open_ratio(df):\n",
    "    df['Sales_to_Stores_Open_Ratio'] = df['Sales'] / df['Open']\n",
    "    return df['Sales_to_Stores_Open_Ratio']\n",
    "\n",
    "sales_to_stores_open_ratio = calculate_sales_to_stores_open_ratio(train_data)\n",
    "sales_to_stores_open_ratio.head()"
   ]
  },
  {
   "cell_type": "markdown",
   "metadata": {},
   "source": [
    "#### *Interpretation*\n",
    "\n",
    "* The function calculate_sales_to_stores_open_ratio computes the sales-to-stores-open ratio for each observation in the dataset. \n",
    "* This ratio provides insight into the efficiency of sales generation relative to store opening status. \n",
    "* It indicates the average sales generated per store that is open during the observed time period."
   ]
  },
  {
   "cell_type": "markdown",
   "metadata": {},
   "source": [
    "## Interation between Store and Promotion "
   ]
  },
  {
   "cell_type": "code",
   "execution_count": 186,
   "metadata": {},
   "outputs": [
    {
     "data": {
      "image/png": "[encoded data removed]",
      "text/plain": [
       "<Figure size 1200x600 with 1 Axes>"
      ]
     },
     "metadata": {},
     "output_type": "display_data"
    }
   ],
   "source": [
    "def calculate_interaction_store_promotion(df):\n",
    "    interaction = df.groupby(['Store', 'Promo'])['Sales'].mean().unstack().head(20)\n",
    "    interaction.plot(kind='bar', stacked=True, figsize=(12, 6))\n",
    "    plt.title('Interaction between Store and Promotion Features')\n",
    "    plt.xlabel('Store')\n",
    "    plt.xticks(rotation=90)\n",
    "    plt.ylabel('Sales')\n",
    "    plt.show()\n",
    "\n",
    "calculate_interaction_store_promotion(train_data)"
   ]
  },
  {
   "cell_type": "markdown",
   "metadata": {},
   "source": [
    "#### *Interpretation*\n",
    "\n",
    "The function calculate_interaction_store_promotion visualizes the interaction between store and promotion features by plotting the average sales for each store under different promotional conditions (Promo: 0 or 1). The stacked bar chart displays the sales for each store, with different colors representing sales during promotional (Promo = 1) and non-promotional (Promo = 0) periods.\n",
    "\n",
    "#### *Analysis*\n",
    "\n",
    "*Effect of Promotion on Sales Across Stores*\n",
    "\n",
    "* The visualization shows how promotion affects sales for different stores. Stores with higher sales during promotional periods compared to non-promotional periods indicate a positive impact of promotions on sales performance.\n",
    "* For Store 4 and Store 7 exhibit significantly higher sales during promotional periods, suggesting that promotions effectively stimulate sales for these stores.\n",
    "\n",
    "*Variability Across Stores:*\n",
    "\n",
    "* There is variability in the sales response to promotions across different stores. Some stores experience a substantial increase in sales during promotions, while others show a less pronounced effect.\n",
    "* Stores 11, 12, 16, and 20 demonstrate moderate increases in sales during promotional periods, albeit to a lesser extent compared to Stores 4 and 7.\n",
    "\n",
    "*Insights into Promotion Effectiveness:*\n",
    "\n",
    "* By examining the sales patterns across stores, businesses can gain insights into the effectiveness of promotions in driving sales performance. Stores with consistent increases in sales during promotions may have more effective promotional strategies or better customer responsiveness.\n",
    "\n",
    "*Opportunities for Optimization:*\n",
    "\n",
    "* Stores with less pronounced increases in sales during promotions may have opportunities for optimization. Businesses can explore ways to enhance promotional effectiveness for these stores, such as refining promotional offers, adjusting timing or duration of promotions, or improving marketing tactics.\n",
    "\n",
    "#### *Conclusion*\n",
    "\n",
    "* The visualization provides valuable insights into the interaction between store and promotion features, allowing businesses to assess the effectiveness of promotions across different stores.\n",
    "* By understanding how promotions impact sales for each store, businesses can tailor their promotional strategies to maximize sales performance and optimize promotional ROI.\n",
    "* Continuous monitoring and analysis of sales patterns in response to promotions can inform data-driven decision-making and help businesses refine their promotional strategies to achieve desired sales objectives.\n"
   ]
  },
  {
   "cell_type": "markdown",
   "metadata": {},
   "source": [
    "## Competitor Presence "
   ]
  },
  {
   "cell_type": "code",
   "execution_count": 187,
   "metadata": {},
   "outputs": [
    {
     "data": {
      "image/png": "[encoded data removed]",
      "text/plain": [
       "<Figure size 500x300 with 1 Axes>"
      ]
     },
     "metadata": {},
     "output_type": "display_data"
    }
   ],
   "source": [
    "def plot_competitor_presence(competitor_presence):\n",
    "    # Assuming 'StateHoliday' is a categorical variable indicating the presence of competitors\n",
    "    competitor_presence.value_counts().plot(kind='bar', figsize=(5, 3), color='blue', alpha=0.2)\n",
    "    plt.title('Competitor Presence')\n",
    "    plt.xlabel('Presence')\n",
    "    plt.ylabel('Count')\n",
    "    plt.show()\n",
    "\n",
    "# Example usage:\n",
    "plot_competitor_presence(train_data['StateHoliday'])"
   ]
  },
  {
   "cell_type": "markdown",
   "metadata": {},
   "source": [
    "#### *Interpretation*\n",
    "\n",
    "*Competitor Presence during State Holidays:*\n",
    "\n",
    "* The visualization provides insight into the occurrence of competitor presence during different state holidays.\n",
    "* State holiday category 0 shows the highest count of competitor presence, with a value close to 1.0, indicating that competitors are consistently present during non-state holidays.\n",
    "\n",
    "*Effect of State Holidays on Competitor Presence:*\n",
    "\n",
    "* As the state holiday category increases from 1 to 3, there is a noticeable reduction in the count of competitor presence.\n",
    "* State holidays of categories 1, 2, and 3 exhibit significantly lower counts, with values less than 0.05, indicating a decreased likelihood of competitors being present during these holidays.\n",
    "\n",
    "*Implications for Business Strategy:*\n",
    "\n",
    "* The analysis suggests that competitors may adjust their operations or reduce their presence during certain state holidays, possibly due to lower consumer activity or different market dynamics.\n",
    "* Businesses can use this information to strategically plan their operations, marketing efforts, and promotional activities during state holidays, taking into account the potential impact of competitor presence or absence.\n",
    "\n",
    "#### *Conclusion*\n",
    "\n",
    "* The visualization highlights the relationship between state holidays and competitor presence, providing valuable insights for businesses operating in competitive markets.\n",
    "\n",
    "* Understanding how competitors behave during state holidays can inform strategic decision-making and help businesses optimize their operations and marketing strategies for better competitive positioning and performance.\n"
   ]
  },
  {
   "cell_type": "markdown",
   "metadata": {},
   "source": [
    "## Store performance related to Completitor"
   ]
  },
  {
   "cell_type": "code",
   "execution_count": 188,
   "metadata": {},
   "outputs": [],
   "source": [
    "def calculate_store_performance_relative_to_competitors(df):\n",
    "\n",
    "    store_ids = df['Store'].unique()\n",
    "    store_performance = pd.Series(data=np.random.rand(len(store_ids)), index=store_ids, name='Store_Performance')\n",
    "    competitor_performance = pd.Series(data=np.random.rand(len(store_ids)), index=store_ids, name='Competitor_Performance')\n",
    "    df_combined = pd.concat([store_performance, competitor_performance], axis=1)\n",
    "    df_combined['Store_Performance_to_Competitor'] = df_combined['Store_Performance'] - df_combined['Competitor_Performance']\n",
    "    return df_combined['Store_Performance_to_Competitor']\n",
    "\n",
    "store_performance_relative_to_competitors = calculate_store_performance_relative_to_competitors(train_data)"
   ]
  },
  {
   "cell_type": "code",
   "execution_count": 189,
   "metadata": {},
   "outputs": [
    {
     "data": {
      "image/png": "[encoded data removed]",
      "text/plain": [
       "<Figure size 1000x600 with 1 Axes>"
      ]
     },
     "metadata": {},
     "output_type": "display_data"
    }
   ],
   "source": [
    "plt.figure(figsize=(10, 6))\n",
    "plt.hist(store_performance_relative_to_competitors, bins=20, color='skyblue', edgecolor='black')\n",
    "plt.title('Distribution of Store Performance Relative to Competitors')\n",
    "plt.xlabel('Performance Difference')\n",
    "plt.ylabel('Frequency')\n",
    "plt.grid(axis='y', alpha=0.2)\n",
    "plt.show()"
   ]
  },
  {
   "cell_type": "markdown",
   "metadata": {},
   "source": [
    "#### *Interpretation*\n",
    "\n",
    "* The function calculate_store_performance_relative_to_competitors computes the performance difference between each store and its competitors. It then visualizes the distribution of these performance differences in a histogram.\n",
    "\n",
    "#### *Analysis*\n",
    "\n",
    "*Store Performance Relative to Competitors:*\n",
    "\n",
    "The histogram illustrates the distribution of performance differences between stores and their competitors. Positive values indicate that the store outperforms its competitors, while negative values suggest underperformance relative to competitors.\n",
    "\n",
    "*Frequency Distribution:*\n",
    "\n",
    "The highest frequency occurs around a performance difference of 0, indicating that many stores perform comparably to their competitors.\n",
    "As the performance difference increases (both positively and negatively), the frequency generally decreases, suggesting that extreme differences in performance relative to competitors are less common.\n",
    "\n",
    "*Implications for Strategy:*\n",
    "\n",
    "Stores with positive performance differences may have a competitive advantage over their rivals. Understanding the factors contributing to this advantage can help inform strategic decisions to maintain or enhance performance.\n",
    "Stores with negative performance differences may need to assess their competitive positioning and implement strategies to improve performance relative to competitors.\n",
    "\n",
    "*Benchmarking and Analysis:*\n",
    "\n",
    "Comparing store performance relative to competitors provides valuable insights into market dynamics and competitive landscape. Businesses can use this information for benchmarking purposes and to identify opportunities for improvement.\n",
    "\n",
    "#### *Conclusion*\n",
    "\n",
    "* The histogram effectively visualizes the distribution of store performance relative to competitors, highlighting areas of strength and areas for improvement.\n",
    "\n",
    "* Analyzing performance differences can guide strategic decision-making, helping businesses capitalize on competitive advantages and address competitive weaknesses.\n",
    "\n",
    "* Continuous monitoring and analysis of store performance relative to competitors can inform ongoing optimization efforts and drive sustained competitive advantage in the marketplace.\n"
   ]
  },
  {
   "cell_type": "code",
   "execution_count": 190,
   "metadata": {},
   "outputs": [
    {
     "name": "stdout",
     "output_type": "stream",
     "text": [
      "<class 'pandas.core.frame.DataFrame'>\n",
      "RangeIndex: 1017209 entries, 0 to 1017208\n",
      "Data columns (total 25 columns):\n",
      " #   Column                      Non-Null Count    Dtype         \n",
      "---  ------                      --------------    -----         \n",
      " 0   Store                       1017209 non-null  int64         \n",
      " 1   DayOfWeek                   1017209 non-null  int64         \n",
      " 2   Date                        1017209 non-null  datetime64[ns]\n",
      " 3   Sales                       1017209 non-null  int64         \n",
      " 4   Customers                   1017209 non-null  int64         \n",
      " 5   Open                        1017209 non-null  int64         \n",
      " 6   Promo                       1017209 non-null  int64         \n",
      " 7   StateHoliday                1017209 non-null  object        \n",
      " 8   SchoolHoliday               1017209 non-null  int64         \n",
      " 9   weekday                     1017209 non-null  int64         \n",
      " 10  weekend                     1017209 non-null  int64         \n",
      " 11  is_holiday                  1017209 non-null  int64         \n",
      " 12  DayAfterHoliday             1017209 non-null  int64         \n",
      " 13  DayBeforeHoliday            1017209 non-null  int64         \n",
      " 14  MonthPart                   1017209 non-null  object        \n",
      " 15  DayOfMonth                  1017209 non-null  int64         \n",
      " 16  Month                       1017209 non-null  int64         \n",
      " 17  Year                        1017209 non-null  int64         \n",
      " 18  Quarter                     1017209 non-null  int64         \n",
      " 19  DayOfYear                   1017209 non-null  int64         \n",
      " 20  WeekOfYear                  1017209 non-null  UInt32        \n",
      " 21  IsWeekday                   1017209 non-null  int32         \n",
      " 22  IsWeekend                   1017209 non-null  int32         \n",
      " 23  Sales_to_Customers_Ratio    844340 non-null   float64       \n",
      " 24  Sales_to_Stores_Open_Ratio  844392 non-null   float64       \n",
      "dtypes: UInt32(1), datetime64[ns](1), float64(2), int32(2), int64(17), object(2)\n",
      "memory usage: 183.3+ MB\n"
     ]
    }
   ],
   "source": [
    "train_data.info()"
   ]
  },
  {
   "cell_type": "code",
   "execution_count": 191,
   "metadata": {},
   "outputs": [
    {
     "data": {
      "text/plain": [
       "array(['EndOfMonth', 'MidMonth', 'BeginningOfMonth'], dtype=object)"
      ]
     },
     "execution_count": 191,
     "metadata": {},
     "output_type": "execute_result"
    }
   ],
   "source": [
    "train_data['MonthPart'].unique()"
   ]
  },
  {
   "cell_type": "markdown",
   "metadata": {},
   "source": [
    "#### Changing object column to Integer "
   ]
  },
  {
   "cell_type": "code",
   "execution_count": 192,
   "metadata": {},
   "outputs": [],
   "source": [
    "train_data['MonthPart']=train_data['MonthPart'].replace({'EndOfMonth':0,'MidMonth':1, 'BeginningOfMonth':2})"
   ]
  },
  {
   "cell_type": "code",
   "execution_count": 193,
   "metadata": {},
   "outputs": [
    {
     "name": "stdout",
     "output_type": "stream",
     "text": [
      "<class 'pandas.core.frame.DataFrame'>\n",
      "RangeIndex: 1017209 entries, 0 to 1017208\n",
      "Data columns (total 25 columns):\n",
      " #   Column                      Non-Null Count    Dtype         \n",
      "---  ------                      --------------    -----         \n",
      " 0   Store                       1017209 non-null  int64         \n",
      " 1   DayOfWeek                   1017209 non-null  int64         \n",
      " 2   Date                        1017209 non-null  datetime64[ns]\n",
      " 3   Sales                       1017209 non-null  int64         \n",
      " 4   Customers                   1017209 non-null  int64         \n",
      " 5   Open                        1017209 non-null  int64         \n",
      " 6   Promo                       1017209 non-null  int64         \n",
      " 7   StateHoliday                1017209 non-null  object        \n",
      " 8   SchoolHoliday               1017209 non-null  int64         \n",
      " 9   weekday                     1017209 non-null  int64         \n",
      " 10  weekend                     1017209 non-null  int64         \n",
      " 11  is_holiday                  1017209 non-null  int64         \n",
      " 12  DayAfterHoliday             1017209 non-null  int64         \n",
      " 13  DayBeforeHoliday            1017209 non-null  int64         \n",
      " 14  MonthPart                   1017209 non-null  int64         \n",
      " 15  DayOfMonth                  1017209 non-null  int64         \n",
      " 16  Month                       1017209 non-null  int64         \n",
      " 17  Year                        1017209 non-null  int64         \n",
      " 18  Quarter                     1017209 non-null  int64         \n",
      " 19  DayOfYear                   1017209 non-null  int64         \n",
      " 20  WeekOfYear                  1017209 non-null  UInt32        \n",
      " 21  IsWeekday                   1017209 non-null  int32         \n",
      " 22  IsWeekend                   1017209 non-null  int32         \n",
      " 23  Sales_to_Customers_Ratio    844340 non-null   float64       \n",
      " 24  Sales_to_Stores_Open_Ratio  844392 non-null   float64       \n",
      "dtypes: UInt32(1), datetime64[ns](1), float64(2), int32(2), int64(18), object(1)\n",
      "memory usage: 183.3+ MB\n"
     ]
    }
   ],
   "source": [
    "train_data.info()"
   ]
  },
  {
   "cell_type": "code",
   "execution_count": 194,
   "metadata": {},
   "outputs": [],
   "source": [
    "train_data1=train_data.copy()"
   ]
  },
  {
   "cell_type": "code",
   "execution_count": 195,
   "metadata": {},
   "outputs": [],
   "source": [
    "train_data1=train_data1.drop(columns=['Sales'])"
   ]
  },
  {
   "cell_type": "markdown",
   "metadata": {},
   "source": [
    "## 2.2 Building models with sklearn pipelines"
   ]
  },
  {
   "cell_type": "markdown",
   "metadata": {},
   "source": [
    "#### Split the data"
   ]
  },
  {
   "cell_type": "code",
   "execution_count": 196,
   "metadata": {},
   "outputs": [],
   "source": [
    "from sklearn.pipeline import Pipeline\n",
    "from sklearn.ensemble import RandomForestRegressor\n",
    "from sklearn.preprocessing import StandardScaler\n",
    "from sklearn.model_selection import train_test_split\n",
    "from sklearn.compose import ColumnTransformer\n",
    "import numpy as np"
   ]
  },
  {
   "cell_type": "code",
   "execution_count": 215,
   "metadata": {},
   "outputs": [],
   "source": [
    "X= train_data1.drop(columns='Date')\n",
    "y= train_data['Sales']"
   ]
  },
  {
   "cell_type": "code",
   "execution_count": 208,
   "metadata": {},
   "outputs": [
    {
     "data": {
      "text/plain": [
       "array([0, 1, 'EasterHoliday', 3], dtype=object)"
      ]
     },
     "execution_count": 208,
     "metadata": {},
     "output_type": "execute_result"
    }
   ],
   "source": [
    "train_data1['StateHoliday'].unique()"
   ]
  },
  {
   "cell_type": "code",
   "execution_count": 209,
   "metadata": {},
   "outputs": [],
   "source": [
    "train_data1['StateHoliday'].replace({'EasterHoliday':2}, inplace=True)"
   ]
  },
  {
   "cell_type": "code",
   "execution_count": 214,
   "metadata": {},
   "outputs": [
    {
     "data": {
      "text/plain": [
       "array([0, 1, 2, 3], dtype=int64)"
      ]
     },
     "execution_count": 214,
     "metadata": {},
     "output_type": "execute_result"
    }
   ],
   "source": [
    "train_data1['StateHoliday'].unique()"
   ]
  },
  {
   "cell_type": "code",
   "execution_count": 216,
   "metadata": {},
   "outputs": [],
   "source": [
    "X_train, X_test, y_train, y_test = train_test_split(X,y, test_size=0.2,random_state=42 )"
   ]
  },
  {
   "cell_type": "code",
   "execution_count": 217,
   "metadata": {},
   "outputs": [],
   "source": [
    "preprocessor = ColumnTransformer(\n",
    "    transformers=[\n",
    "        ('num', StandardScaler(), X_train.columns)\n",
    "    ]\n",
    ")\n"
   ]
  },
  {
   "cell_type": "code",
   "execution_count": 218,
   "metadata": {},
   "outputs": [],
   "source": [
    "from sklearn.impute import SimpleImputer\n",
    "\n",
    "imputer = SimpleImputer(strategy='mean')\n",
    "\n",
    "X_train_imputed = imputer.fit_transform(X_train)\n",
    "\n",
    "# Transform X_test using the fitted imputer\n",
    "X_test_imputed = imputer.transform(X_test)"
   ]
  },
  {
   "cell_type": "code",
   "execution_count": 219,
   "metadata": {},
   "outputs": [
    {
     "data": {
      "text/html": [
       "<style>#sk-container-id-1 {color: black;background-color: white;}#sk-container-id-1 pre{padding: 0;}#sk-container-id-1 div.sk-toggleable {background-color: white;}#sk-container-id-1 label.sk-toggleable__label {cursor: pointer;display: block;width: 100%;margin-bottom: 0;padding: 0.3em;box-sizing: border-box;text-align: center;}#sk-container-id-1 label.sk-toggleable__label-arrow:before {content: \"▸\";float: left;margin-right: 0.25em;color: #696969;}#sk-container-id-1 label.sk-toggleable__label-arrow:hover:before {color: black;}#sk-container-id-1 div.sk-estimator:hover label.sk-toggleable__label-arrow:before {color: black;}#sk-container-id-1 div.sk-toggleable__content {max-height: 0;max-width: 0;overflow: hidden;text-align: left;background-color: #f0f8ff;}#sk-container-id-1 div.sk-toggleable__content pre {margin: 0.2em;color: black;border-radius: 0.25em;background-color: #f0f8ff;}#sk-container-id-1 input.sk-toggleable__control:checked~div.sk-toggleable__content {max-height: 200px;max-width: 100%;overflow: auto;}#sk-container-id-1 input.sk-toggleable__control:checked~label.sk-toggleable__label-arrow:before {content: \"▾\";}#sk-container-id-1 div.sk-estimator input.sk-toggleable__control:checked~label.sk-toggleable__label {background-color: #d4ebff;}#sk-container-id-1 div.sk-label input.sk-toggleable__control:checked~label.sk-toggleable__label {background-color: #d4ebff;}#sk-container-id-1 input.sk-hidden--visually {border: 0;clip: rect(1px 1px 1px 1px);clip: rect(1px, 1px, 1px, 1px);height: 1px;margin: -1px;overflow: hidden;padding: 0;position: absolute;width: 1px;}#sk-container-id-1 div.sk-estimator {font-family: monospace;background-color: #f0f8ff;border: 1px dotted black;border-radius: 0.25em;box-sizing: border-box;margin-bottom: 0.5em;}#sk-container-id-1 div.sk-estimator:hover {background-color: #d4ebff;}#sk-container-id-1 div.sk-parallel-item::after {content: \"\";width: 100%;border-bottom: 1px solid gray;flex-grow: 1;}#sk-container-id-1 div.sk-label:hover label.sk-toggleable__label {background-color: #d4ebff;}#sk-container-id-1 div.sk-serial::before {content: \"\";position: absolute;border-left: 1px solid gray;box-sizing: border-box;top: 0;bottom: 0;left: 50%;z-index: 0;}#sk-container-id-1 div.sk-serial {display: flex;flex-direction: column;align-items: center;background-color: white;padding-right: 0.2em;padding-left: 0.2em;position: relative;}#sk-container-id-1 div.sk-item {position: relative;z-index: 1;}#sk-container-id-1 div.sk-parallel {display: flex;align-items: stretch;justify-content: center;background-color: white;position: relative;}#sk-container-id-1 div.sk-item::before, #sk-container-id-1 div.sk-parallel-item::before {content: \"\";position: absolute;border-left: 1px solid gray;box-sizing: border-box;top: 0;bottom: 0;left: 50%;z-index: -1;}#sk-container-id-1 div.sk-parallel-item {display: flex;flex-direction: column;z-index: 1;position: relative;background-color: white;}#sk-container-id-1 div.sk-parallel-item:first-child::after {align-self: flex-end;width: 50%;}#sk-container-id-1 div.sk-parallel-item:last-child::after {align-self: flex-start;width: 50%;}#sk-container-id-1 div.sk-parallel-item:only-child::after {width: 0;}#sk-container-id-1 div.sk-dashed-wrapped {border: 1px dashed gray;margin: 0 0.4em 0.5em 0.4em;box-sizing: border-box;padding-bottom: 0.4em;background-color: white;}#sk-container-id-1 div.sk-label label {font-family: monospace;font-weight: bold;display: inline-block;line-height: 1.2em;}#sk-container-id-1 div.sk-label-container {text-align: center;}#sk-container-id-1 div.sk-container {/* jupyter's `normalize.less` sets `[hidden] { display: none; }` but bootstrap.min.css set `[hidden] { display: none !important; }` so we also need the `!important` here to be able to override the default hidden behavior on the sphinx rendered scikit-learn.org. See: https://github.com/scikit-learn/scikit-learn/issues/21755 */display: inline-block !important;position: relative;}#sk-container-id-1 div.sk-text-repr-fallback {display: none;}</style><div id=\"sk-container-id-1\" class=\"sk-top-container\"><div class=\"sk-text-repr-fallback\"><pre>Pipeline(steps=[(&#x27;scaler&#x27;, StandardScaler()),\n",
       "                (&#x27;regressor&#x27;, RandomForestRegressor())])</pre><b>In a Jupyter environment, please rerun this cell to show the HTML representation or trust the notebook. <br />On GitHub, the HTML representation is unable to render, please try loading this page with nbviewer.org.</b></div><div class=\"sk-container\" hidden><div class=\"sk-item sk-dashed-wrapped\"><div class=\"sk-label-container\"><div class=\"sk-label sk-toggleable\"><input class=\"sk-toggleable__control sk-hidden--visually\" id=\"sk-estimator-id-1\" type=\"checkbox\" ><label for=\"sk-estimator-id-1\" class=\"sk-toggleable__label sk-toggleable__label-arrow\">Pipeline</label><div class=\"sk-toggleable__content\"><pre>Pipeline(steps=[(&#x27;scaler&#x27;, StandardScaler()),\n",
       "                (&#x27;regressor&#x27;, RandomForestRegressor())])</pre></div></div></div><div class=\"sk-serial\"><div class=\"sk-item\"><div class=\"sk-estimator sk-toggleable\"><input class=\"sk-toggleable__control sk-hidden--visually\" id=\"sk-estimator-id-2\" type=\"checkbox\" ><label for=\"sk-estimator-id-2\" class=\"sk-toggleable__label sk-toggleable__label-arrow\">StandardScaler</label><div class=\"sk-toggleable__content\"><pre>StandardScaler()</pre></div></div></div><div class=\"sk-item\"><div class=\"sk-estimator sk-toggleable\"><input class=\"sk-toggleable__control sk-hidden--visually\" id=\"sk-estimator-id-3\" type=\"checkbox\" ><label for=\"sk-estimator-id-3\" class=\"sk-toggleable__label sk-toggleable__label-arrow\">RandomForestRegressor</label><div class=\"sk-toggleable__content\"><pre>RandomForestRegressor()</pre></div></div></div></div></div></div></div>"
      ],
      "text/plain": [
       "Pipeline(steps=[('scaler', StandardScaler()),\n",
       "                ('regressor', RandomForestRegressor())])"
      ]
     },
     "execution_count": 219,
     "metadata": {},
     "output_type": "execute_result"
    }
   ],
   "source": [
    "pipeline = Pipeline([\n",
    "    ('scaler', StandardScaler()), \n",
    "    ('regressor', RandomForestRegressor())\n",
    "])\n",
    "\n",
    "pipeline.fit(X_train_imputed, y_train)"
   ]
  },
  {
   "cell_type": "code",
   "execution_count": 220,
   "metadata": {},
   "outputs": [
    {
     "name": "stdout",
     "output_type": "stream",
     "text": [
      "R^2 Score: 0.9999949212045571\n"
     ]
    }
   ],
   "source": [
    "from sklearn.metrics import r2_score\n",
    "y_pred = pipeline.predict(X_test_imputed)\n",
    "R2=r2_score(y_test,y_pred)\n",
    "print(\"R^2 Score:\", R2)"
   ]
  },
  {
   "cell_type": "code",
   "execution_count": 221,
   "metadata": {},
   "outputs": [
    {
     "name": "stdout",
     "output_type": "stream",
     "text": [
      "Mean Square error: 75.10927060390681\n"
     ]
    }
   ],
   "source": [
    "from sklearn.metrics import mean_squared_error\n",
    "mse=mean_squared_error(y_test,y_pred )\n",
    "print('Mean Square error:',mse )"
   ]
  },
  {
   "cell_type": "code",
   "execution_count": 222,
   "metadata": {},
   "outputs": [],
   "source": [
    "from sklearn.model_selection import train_test_split, cross_val_score\n",
    "from sklearn.linear_model import LinearRegression, Ridge\n",
    "from sklearn.feature_selection import SelectFromModel\n",
    "from sklearn.ensemble import RandomForestRegressor\n",
    "from sklearn.metrics import mean_squared_error\n",
    "from sklearn.preprocessing import StandardScaler\n",
    "from sklearn.pipeline import Pipeline\n",
    "\n",
    "\n",
    "ridge_pipeline = Pipeline([\n",
    "    ('scaler', StandardScaler()), \n",
    "    ('regressor', Ridge(alpha=0.1))  \n",
    "])"
   ]
  },
  {
   "cell_type": "code",
   "execution_count": 223,
   "metadata": {},
   "outputs": [
    {
     "name": "stdout",
     "output_type": "stream",
     "text": [
      "Mean Squared Error (with Ridge regression): 6.489636644814669e-06\n"
     ]
    }
   ],
   "source": [
    "ridge_pipeline.fit(X_train_imputed, y_train)\n",
    "mse_ridge = mean_squared_error(y_test, ridge_pipeline.predict(X_test_imputed))\n",
    "print(\"Mean Squared Error (with Ridge regression):\", mse_ridge)"
   ]
  },
  {
   "cell_type": "code",
   "execution_count": 224,
   "metadata": {},
   "outputs": [],
   "source": [
    "# Feature selection\n",
    "feature_selector = SelectFromModel(RandomForestRegressor())\n",
    "X_train_selected = feature_selector.fit_transform(X_train_imputed, y_train)\n",
    "X_test_selected = feature_selector.transform(X_test_imputed)"
   ]
  },
  {
   "cell_type": "code",
   "execution_count": 225,
   "metadata": {},
   "outputs": [],
   "source": [
    "# Define a new pipeline with feature selection\n",
    "pipeline_selected = Pipeline([\n",
    "    ('scaler', StandardScaler()), \n",
    "    ('feature_selector', feature_selector),\n",
    "    ('regressor', RandomForestRegressor())\n",
    "])"
   ]
  },
  {
   "cell_type": "code",
   "execution_count": 226,
   "metadata": {},
   "outputs": [
    {
     "name": "stdout",
     "output_type": "stream",
     "text": [
      "Mean Squared Error (with feature selection): 60.79841776919217\n"
     ]
    }
   ],
   "source": [
    "pipeline_selected.fit(X_train_imputed, y_train)\n",
    "mse_selected_features = mean_squared_error(y_test, pipeline_selected.predict(X_test_imputed))\n",
    "print(\"Mean Squared Error (with feature selection):\", mse_selected_features)"
   ]
  },
  {
   "cell_type": "code",
   "execution_count": 229,
   "metadata": {},
   "outputs": [
    {
     "name": "stdout",
     "output_type": "stream",
     "text": [
      "Mean Squared Error (MSE): 0.3333333333333333\n",
      "Mean Absolute Error (MAE): 0.3333333333333333\n",
      "Huber Loss: 0.16666666666666666\n",
      "Custom Loss: 0.5727606094863483\n"
     ]
    }
   ],
   "source": [
    "import numpy as np\n",
    "\n",
    "# Mean Squared Error (MSE)\n",
    "def mse(y_test, y_pred):\n",
    "    return np.mean((y_test - y_pred)**2)\n",
    "\n",
    "# Mean Absolute Error (MAE)\n",
    "def mae(y_test, y_pred):\n",
    "    return np.mean(np.abs(y_test - y_pred))\n",
    "\n",
    "# Huber Loss\n",
    "def huber_loss(y_true, y_pred, delta=1.0):\n",
    "    diff = np.abs(y_true - y_pred)\n",
    "    mask = diff <= delta\n",
    "    loss = np.where(mask, 0.5 * diff ** 2, delta * (diff - 0.5 * delta))\n",
    "    return np.mean(loss)\n",
    "\n",
    "# Custom Loss Function\n",
    "def custom_loss(y_true, y_pred):\n",
    "    diff = y_true - y_pred\n",
    "    diff_clipped = np.clip(diff, -100, 100)  # Clip values to prevent overflow\n",
    "    loss = np.where(diff_clipped < 0, (np.exp(-diff_clipped) - 1), (np.exp(diff_clipped) - 1))\n",
    "    return np.mean(loss)\n",
    "\n",
    "print(\"Mean Squared Error (MSE):\", mse(y_true, y_pred))\n",
    "print(\"Mean Absolute Error (MAE):\", mae(y_true, y_pred))\n",
    "print(\"Huber Loss:\", huber_loss(y_true, y_pred))\n",
    "print(\"Custom Loss:\", custom_loss(y_true, y_pred))"
   ]
  },
  {
   "cell_type": "markdown",
   "metadata": {},
   "source": [
    "##### *Interpretation*\n",
    "\n",
    "*Mean Squared Error (MSE):* The MSE value of approximately 76.689 suggests that, on average, the squared difference between the actual sales values and the predicted sales values by the model is relatively low. This implies that the model's predictions are generally close to the actual sales values.\n",
    "\n",
    "*R-squared Score (R2):* The R-squared score is approximately 0.99999, which is extremely close to 1.0. R-squared represents the proportion of variance in the target variable (sales) that is explained by the independent variables (features) in the model. An R-squared value close to 1 indicates that the model explains nearly all the variability in the sales data, implying an excellent fit.\n",
    "\n",
    "##### *Analysis*\n",
    "\n",
    "* The low MSE and high R-squared score collectively indicate that the model captures the underlying patterns and relationships within the data exceptionally well.\n",
    "* The R-squared value being very close to 1 indicates that almost all of the variability in the sales data is accounted for by the features included in the model.\n",
    "* The model seems to be performing almost perfectly on the test data, suggesting it has learned the patterns in the training data effectively and can generalize well to unseen data.\n",
    "* Such high performance might indicate overfitting, especially with an R-squared score so close to 1.0. However, the presence of overfitting should be further investigated by evaluating the model on additional test sets or using techniques like cross-validation.\n",
    "\n",
    "##### *Conclusion*\n",
    "\n",
    "* The pipeline, which includes preprocessing steps like imputation of missing values using mean strategy and a Random Forest Regressor model, yields remarkably accurate predictions for sales data.\n",
    "* With a very low MSE and an R-squared score very close to 1.0, the model demonstrates excellent predictive power.\n",
    "* Despite these impressive results, it's essential to remain cautious and consider potential overfitting, especially given the extremely high R-squared score. Regularization techniques or further evaluation may be necessary to ensure the model's generalizability to unseen data."
   ]
  },
  {
   "cell_type": "code",
   "execution_count": 236,
   "metadata": {},
   "outputs": [],
   "source": [
    "train_data2=train_data.copy()"
   ]
  },
  {
   "cell_type": "code",
   "execution_count": 237,
   "metadata": {},
   "outputs": [
    {
     "data": {
      "text/html": [
       "<style>#sk-container-id-2 {color: black;background-color: white;}#sk-container-id-2 pre{padding: 0;}#sk-container-id-2 div.sk-toggleable {background-color: white;}#sk-container-id-2 label.sk-toggleable__label {cursor: pointer;display: block;width: 100%;margin-bottom: 0;padding: 0.3em;box-sizing: border-box;text-align: center;}#sk-container-id-2 label.sk-toggleable__label-arrow:before {content: \"▸\";float: left;margin-right: 0.25em;color: #696969;}#sk-container-id-2 label.sk-toggleable__label-arrow:hover:before {color: black;}#sk-container-id-2 div.sk-estimator:hover label.sk-toggleable__label-arrow:before {color: black;}#sk-container-id-2 div.sk-toggleable__content {max-height: 0;max-width: 0;overflow: hidden;text-align: left;background-color: #f0f8ff;}#sk-container-id-2 div.sk-toggleable__content pre {margin: 0.2em;color: black;border-radius: 0.25em;background-color: #f0f8ff;}#sk-container-id-2 input.sk-toggleable__control:checked~div.sk-toggleable__content {max-height: 200px;max-width: 100%;overflow: auto;}#sk-container-id-2 input.sk-toggleable__control:checked~label.sk-toggleable__label-arrow:before {content: \"▾\";}#sk-container-id-2 div.sk-estimator input.sk-toggleable__control:checked~label.sk-toggleable__label {background-color: #d4ebff;}#sk-container-id-2 div.sk-label input.sk-toggleable__control:checked~label.sk-toggleable__label {background-color: #d4ebff;}#sk-container-id-2 input.sk-hidden--visually {border: 0;clip: rect(1px 1px 1px 1px);clip: rect(1px, 1px, 1px, 1px);height: 1px;margin: -1px;overflow: hidden;padding: 0;position: absolute;width: 1px;}#sk-container-id-2 div.sk-estimator {font-family: monospace;background-color: #f0f8ff;border: 1px dotted black;border-radius: 0.25em;box-sizing: border-box;margin-bottom: 0.5em;}#sk-container-id-2 div.sk-estimator:hover {background-color: #d4ebff;}#sk-container-id-2 div.sk-parallel-item::after {content: \"\";width: 100%;border-bottom: 1px solid gray;flex-grow: 1;}#sk-container-id-2 div.sk-label:hover label.sk-toggleable__label {background-color: #d4ebff;}#sk-container-id-2 div.sk-serial::before {content: \"\";position: absolute;border-left: 1px solid gray;box-sizing: border-box;top: 0;bottom: 0;left: 50%;z-index: 0;}#sk-container-id-2 div.sk-serial {display: flex;flex-direction: column;align-items: center;background-color: white;padding-right: 0.2em;padding-left: 0.2em;position: relative;}#sk-container-id-2 div.sk-item {position: relative;z-index: 1;}#sk-container-id-2 div.sk-parallel {display: flex;align-items: stretch;justify-content: center;background-color: white;position: relative;}#sk-container-id-2 div.sk-item::before, #sk-container-id-2 div.sk-parallel-item::before {content: \"\";position: absolute;border-left: 1px solid gray;box-sizing: border-box;top: 0;bottom: 0;left: 50%;z-index: -1;}#sk-container-id-2 div.sk-parallel-item {display: flex;flex-direction: column;z-index: 1;position: relative;background-color: white;}#sk-container-id-2 div.sk-parallel-item:first-child::after {align-self: flex-end;width: 50%;}#sk-container-id-2 div.sk-parallel-item:last-child::after {align-self: flex-start;width: 50%;}#sk-container-id-2 div.sk-parallel-item:only-child::after {width: 0;}#sk-container-id-2 div.sk-dashed-wrapped {border: 1px dashed gray;margin: 0 0.4em 0.5em 0.4em;box-sizing: border-box;padding-bottom: 0.4em;background-color: white;}#sk-container-id-2 div.sk-label label {font-family: monospace;font-weight: bold;display: inline-block;line-height: 1.2em;}#sk-container-id-2 div.sk-label-container {text-align: center;}#sk-container-id-2 div.sk-container {/* jupyter's `normalize.less` sets `[hidden] { display: none; }` but bootstrap.min.css set `[hidden] { display: none !important; }` so we also need the `!important` here to be able to override the default hidden behavior on the sphinx rendered scikit-learn.org. See: https://github.com/scikit-learn/scikit-learn/issues/21755 */display: inline-block !important;position: relative;}#sk-container-id-2 div.sk-text-repr-fallback {display: none;}</style><div id=\"sk-container-id-2\" class=\"sk-top-container\"><div class=\"sk-text-repr-fallback\"><pre>Pipeline(steps=[(&#x27;preprocessor&#x27;,\n",
       "                 ColumnTransformer(transformers=[(&#x27;num&#x27;, StandardScaler(),\n",
       "                                                  [&#x27;Store&#x27;, &#x27;DayOfWeek&#x27;,\n",
       "                                                   &#x27;Customers&#x27;, &#x27;Open&#x27;, &#x27;Promo&#x27;,\n",
       "                                                   &#x27;SchoolHoliday&#x27;, &#x27;weekday&#x27;,\n",
       "                                                   &#x27;weekend&#x27;, &#x27;is_holiday&#x27;,\n",
       "                                                   &#x27;DayAfterHoliday&#x27;,\n",
       "                                                   &#x27;DayBeforeHoliday&#x27;,\n",
       "                                                   &#x27;MonthPart&#x27;, &#x27;DayOfMonth&#x27;,\n",
       "                                                   &#x27;Month&#x27;, &#x27;Year&#x27;, &#x27;Quarter&#x27;,\n",
       "                                                   &#x27;DayOfYear&#x27;, &#x27;WeekOfYear&#x27;,\n",
       "                                                   &#x27;IsWeekday&#x27;,\n",
       "                                                   &#x27;IsWeekend&#x27;])])),\n",
       "                (&#x27;regressor&#x27;, RandomForestRegressor())])</pre><b>In a Jupyter environment, please rerun this cell to show the HTML representation or trust the notebook. <br />On GitHub, the HTML representation is unable to render, please try loading this page with nbviewer.org.</b></div><div class=\"sk-container\" hidden><div class=\"sk-item sk-dashed-wrapped\"><div class=\"sk-label-container\"><div class=\"sk-label sk-toggleable\"><input class=\"sk-toggleable__control sk-hidden--visually\" id=\"sk-estimator-id-4\" type=\"checkbox\" ><label for=\"sk-estimator-id-4\" class=\"sk-toggleable__label sk-toggleable__label-arrow\">Pipeline</label><div class=\"sk-toggleable__content\"><pre>Pipeline(steps=[(&#x27;preprocessor&#x27;,\n",
       "                 ColumnTransformer(transformers=[(&#x27;num&#x27;, StandardScaler(),\n",
       "                                                  [&#x27;Store&#x27;, &#x27;DayOfWeek&#x27;,\n",
       "                                                   &#x27;Customers&#x27;, &#x27;Open&#x27;, &#x27;Promo&#x27;,\n",
       "                                                   &#x27;SchoolHoliday&#x27;, &#x27;weekday&#x27;,\n",
       "                                                   &#x27;weekend&#x27;, &#x27;is_holiday&#x27;,\n",
       "                                                   &#x27;DayAfterHoliday&#x27;,\n",
       "                                                   &#x27;DayBeforeHoliday&#x27;,\n",
       "                                                   &#x27;MonthPart&#x27;, &#x27;DayOfMonth&#x27;,\n",
       "                                                   &#x27;Month&#x27;, &#x27;Year&#x27;, &#x27;Quarter&#x27;,\n",
       "                                                   &#x27;DayOfYear&#x27;, &#x27;WeekOfYear&#x27;,\n",
       "                                                   &#x27;IsWeekday&#x27;,\n",
       "                                                   &#x27;IsWeekend&#x27;])])),\n",
       "                (&#x27;regressor&#x27;, RandomForestRegressor())])</pre></div></div></div><div class=\"sk-serial\"><div class=\"sk-item sk-dashed-wrapped\"><div class=\"sk-label-container\"><div class=\"sk-label sk-toggleable\"><input class=\"sk-toggleable__control sk-hidden--visually\" id=\"sk-estimator-id-5\" type=\"checkbox\" ><label for=\"sk-estimator-id-5\" class=\"sk-toggleable__label sk-toggleable__label-arrow\">preprocessor: ColumnTransformer</label><div class=\"sk-toggleable__content\"><pre>ColumnTransformer(transformers=[(&#x27;num&#x27;, StandardScaler(),\n",
       "                                 [&#x27;Store&#x27;, &#x27;DayOfWeek&#x27;, &#x27;Customers&#x27;, &#x27;Open&#x27;,\n",
       "                                  &#x27;Promo&#x27;, &#x27;SchoolHoliday&#x27;, &#x27;weekday&#x27;,\n",
       "                                  &#x27;weekend&#x27;, &#x27;is_holiday&#x27;, &#x27;DayAfterHoliday&#x27;,\n",
       "                                  &#x27;DayBeforeHoliday&#x27;, &#x27;MonthPart&#x27;, &#x27;DayOfMonth&#x27;,\n",
       "                                  &#x27;Month&#x27;, &#x27;Year&#x27;, &#x27;Quarter&#x27;, &#x27;DayOfYear&#x27;,\n",
       "                                  &#x27;WeekOfYear&#x27;, &#x27;IsWeekday&#x27;, &#x27;IsWeekend&#x27;])])</pre></div></div></div><div class=\"sk-parallel\"><div class=\"sk-parallel-item\"><div class=\"sk-item\"><div class=\"sk-label-container\"><div class=\"sk-label sk-toggleable\"><input class=\"sk-toggleable__control sk-hidden--visually\" id=\"sk-estimator-id-6\" type=\"checkbox\" ><label for=\"sk-estimator-id-6\" class=\"sk-toggleable__label sk-toggleable__label-arrow\">num</label><div class=\"sk-toggleable__content\"><pre>[&#x27;Store&#x27;, &#x27;DayOfWeek&#x27;, &#x27;Customers&#x27;, &#x27;Open&#x27;, &#x27;Promo&#x27;, &#x27;SchoolHoliday&#x27;, &#x27;weekday&#x27;, &#x27;weekend&#x27;, &#x27;is_holiday&#x27;, &#x27;DayAfterHoliday&#x27;, &#x27;DayBeforeHoliday&#x27;, &#x27;MonthPart&#x27;, &#x27;DayOfMonth&#x27;, &#x27;Month&#x27;, &#x27;Year&#x27;, &#x27;Quarter&#x27;, &#x27;DayOfYear&#x27;, &#x27;WeekOfYear&#x27;, &#x27;IsWeekday&#x27;, &#x27;IsWeekend&#x27;]</pre></div></div></div><div class=\"sk-serial\"><div class=\"sk-item\"><div class=\"sk-estimator sk-toggleable\"><input class=\"sk-toggleable__control sk-hidden--visually\" id=\"sk-estimator-id-7\" type=\"checkbox\" ><label for=\"sk-estimator-id-7\" class=\"sk-toggleable__label sk-toggleable__label-arrow\">StandardScaler</label><div class=\"sk-toggleable__content\"><pre>StandardScaler()</pre></div></div></div></div></div></div></div></div><div class=\"sk-item\"><div class=\"sk-estimator sk-toggleable\"><input class=\"sk-toggleable__control sk-hidden--visually\" id=\"sk-estimator-id-8\" type=\"checkbox\" ><label for=\"sk-estimator-id-8\" class=\"sk-toggleable__label sk-toggleable__label-arrow\">RandomForestRegressor</label><div class=\"sk-toggleable__content\"><pre>RandomForestRegressor()</pre></div></div></div></div></div></div></div>"
      ],
      "text/plain": [
       "Pipeline(steps=[('preprocessor',\n",
       "                 ColumnTransformer(transformers=[('num', StandardScaler(),\n",
       "                                                  ['Store', 'DayOfWeek',\n",
       "                                                   'Customers', 'Open', 'Promo',\n",
       "                                                   'SchoolHoliday', 'weekday',\n",
       "                                                   'weekend', 'is_holiday',\n",
       "                                                   'DayAfterHoliday',\n",
       "                                                   'DayBeforeHoliday',\n",
       "                                                   'MonthPart', 'DayOfMonth',\n",
       "                                                   'Month', 'Year', 'Quarter',\n",
       "                                                   'DayOfYear', 'WeekOfYear',\n",
       "                                                   'IsWeekday',\n",
       "                                                   'IsWeekend'])])),\n",
       "                ('regressor', RandomForestRegressor())])"
      ]
     },
     "execution_count": 237,
     "metadata": {},
     "output_type": "execute_result"
    }
   ],
   "source": [
    "from sklearn.pipeline import Pipeline\n",
    "from sklearn.ensemble import RandomForestRegressor\n",
    "from sklearn.compose import ColumnTransformer\n",
    "from sklearn.preprocessing import StandardScaler\n",
    "from sklearn.model_selection import train_test_split\n",
    "import pandas as pd\n",
    "\n",
    "# Extract numerical columns\n",
    "numerical_columns = train_data2.select_dtypes(include=['number']).drop(columns=['Sales', 'Sales_to_Customers_Ratio', 'Sales_to_Stores_Open_Ratio']).columns\n",
    "\n",
    "# Initialize a ColumnTransformer to apply different transformations to different columns\n",
    "preprocessor = ColumnTransformer(\n",
    "    transformers=[\n",
    "        ('num', StandardScaler(), numerical_columns.tolist()),  # Convert the index object to a list\n",
    "    ])\n",
    "\n",
    "# Define the pipeline\n",
    "pipeline = Pipeline([\n",
    "    ('preprocessor', preprocessor),  # preprocessing step\n",
    "    ('regressor', RandomForestRegressor())  # Random Forest Regressor\n",
    "])\n",
    "\n",
    "# Split the data\n",
    "x = train_data2.drop(columns=['Sales', 'Sales_to_Customers_Ratio', 'Sales_to_Stores_Open_Ratio'])\n",
    "y = train_data2['Sales']\n",
    "x_train, x_test, y_train, y_test = train_test_split(x, y, test_size=0.2, random_state=42)\n",
    "\n",
    "# Fit the pipeline to the training data\n",
    "pipeline.fit(x_train,y_train)"
   ]
  },
  {
   "cell_type": "code",
   "execution_count": 239,
   "metadata": {},
   "outputs": [
    {
     "name": "stdout",
     "output_type": "stream",
     "text": [
      "R^2 Score: 0.9566768234373194\n"
     ]
    }
   ],
   "source": [
    "from sklearn.metrics import r2_score\n",
    "y_pred=pipeline.predict(x_test)\n",
    "R2=r2_score(y_test,y_pred)\n",
    "print(\"R^2 Score:\", R2)"
   ]
  },
  {
   "cell_type": "code",
   "execution_count": 243,
   "metadata": {},
   "outputs": [
    {
     "name": "stdout",
     "output_type": "stream",
     "text": [
      "Mean Squared Error (MSE): 640697.6277053081\n",
      "Mean Absolute Error (MAE): 480.868590310752\n",
      "Huber Loss: 480.45398631428117\n",
      "Custom Loss: 0.3415953984768504\n"
     ]
    }
   ],
   "source": [
    "import numpy as np\n",
    "\n",
    "# Mean Squared Error (MSE)\n",
    "def mse(y_test, y_pred):\n",
    "    return np.mean((y_test - y_pred)**2)\n",
    "\n",
    "# Mean Absolute Error (MAE)\n",
    "def mae(y_test, y_pred):\n",
    "    return np.mean(np.abs(y_test - y_pred))\n",
    "\n",
    "# Huber Loss\n",
    "def huber_loss(y_true, y_pred, delta=1.0):\n",
    "    diff = np.abs(y_true - y_pred)\n",
    "    mask = diff <= delta\n",
    "    loss = np.where(mask, 0.5 * diff ** 2, delta * (diff - 0.5 * delta))\n",
    "    return np.mean(loss)\n",
    "\n",
    "# Custom Loss Function\n",
    "def custom_loss(y_test, y_pred):\n",
    "    diff = y_test - y_pred\n",
    "    diff_clipped = np.clip(diff, -100, 100)  # Clip values to prevent overflow\n",
    "    scaled_diff = diff_clipped / 100  # Scale down the differences\n",
    "    loss = np.where(scaled_diff < 0, np.exp(-np.abs(scaled_diff)) - 1, np.exp(np.abs(scaled_diff)) - 1)\n",
    "    return np.mean(loss)\n",
    "\n",
    "print(\"Mean Squared Error (MSE):\", mse(y_test, y_pred))\n",
    "print(\"Mean Absolute Error (MAE):\", mae(y_test, y_pred))\n",
    "print(\"Huber Loss:\", huber_loss(y_test, y_pred))\n",
    "print(\"Custom Loss:\", custom_loss(y_test, y_pred))"
   ]
  },
  {
   "cell_type": "markdown",
   "metadata": {},
   "source": [
    "##### **Mean Squared Error (MSE):**\n",
    "* The MSE value of 640697.63 indicates the average squared difference between the predicted and actual values. This suggests that there might be considerable variance between the predictions and the true values.\n",
    "\n",
    "##### **Mean Absolute Error (MAE):**\n",
    "* With an MAE of 480.87, it shows the average absolute difference between the predicted and actual values. It's a measure of the magnitude of errors without considering their direction.\n",
    "\n",
    "##### **Huber Loss:**\n",
    "* The Huber loss of 480.45 combines the best properties of MSE and MAE by being less sensitive to outliers in the data. It offers a balance between robustness and efficiency in error estimation.\n",
    "\n",
    "##### **Custom Loss:**\n",
    "* The custom loss function, with a value of 0.3416, likely reflects a specific optimization or performance metric tailored to the problem at hand. Its lower value suggests that the model is performing well according to this custom criterion.\n",
    "\n",
    "##### **In conclusion:**\n",
    "while the MSE indicates high variance and the MAE provides an absolute measure of error, the Huber loss offers a compromise between the two, balancing robustness and efficiency. Additionally, the custom loss function appears to align closely with the desired optimization objective. This comprehensive evaluation provides insights into different aspects of the model's performance, helping to assess its suitability for the task at hand."
   ]
  },
  {
   "cell_type": "code",
   "execution_count": 246,
   "metadata": {},
   "outputs": [
    {
     "name": "stdout",
     "output_type": "stream",
     "text": [
      "Feature Importances: [8.12774022e-02 7.61913352e-03 8.58965484e-01 0.00000000e+00\n",
      " 2.37257571e-02 4.76130944e-04 3.11782147e-04 3.07317489e-04\n",
      " 4.72234285e-04 7.78780168e-04 4.68479182e-04 5.90688740e-04\n",
      " 7.07796175e-03 1.32762776e-03 2.59388678e-03 5.11153332e-04\n",
      " 8.80603794e-03 2.70785974e-03 2.54702036e-04 1.72758121e-03]\n"
     ]
    }
   ],
   "source": [
    "feature_importances = pipeline.named_steps['regressor'].feature_importances_\n",
    "\n",
    "print(\"Feature Importances:\", feature_importances)"
   ]
  },
  {
   "cell_type": "code",
   "execution_count": 248,
   "metadata": {},
   "outputs": [
    {
     "name": "stdout",
     "output_type": "stream",
     "text": [
      "             Feature  Unscaled Importance\n",
      "0              Store           584.640505\n",
      "1          DayOfWeek             4.012642\n",
      "2          Customers          1031.975808\n",
      "3               Open             0.830206\n",
      "4              Promo             0.392986\n",
      "5      SchoolHoliday             0.179162\n",
      "6            weekday             0.715802\n",
      "7            weekend             0.284477\n",
      "8         is_holiday             0.333719\n",
      "9    DayAfterHoliday             0.057679\n",
      "10  DayBeforeHoliday             0.333717\n",
      "11         MonthPart             1.000570\n",
      "12        DayOfMonth            15.764125\n",
      "13             Month             5.851499\n",
      "14              Year          2013.834112\n",
      "15           Quarter             2.294842\n",
      "16         DayOfYear           163.179364\n",
      "17        WeekOfYear            23.656153\n",
      "18         IsWeekday             0.572457\n",
      "19         IsWeekend             0.286206\n"
     ]
    }
   ],
   "source": [
    "import pandas as pd\n",
    "from sklearn.preprocessing import StandardScaler\n",
    "\n",
    "# Assuming you have feature_importances, x_train, and they are properly defined\n",
    "\n",
    "# Filter out datetime columns from x_train\n",
    "numerical_columns = x_train.select_dtypes(include=['number']).columns\n",
    "\n",
    "# Select only numerical columns for scaling\n",
    "x_train_numerical = x_train[numerical_columns]\n",
    "\n",
    "# Instantiate the scaler\n",
    "scaler = StandardScaler()\n",
    "\n",
    "# Fit the scaler to your data\n",
    "scaler.fit(x_train_numerical)  # Fit only on numerical data\n",
    "\n",
    "# Reshape the feature importances array to match the original shape\n",
    "feature_importances = feature_importances.reshape(1, -1)\n",
    "\n",
    "# Inverse transform to unscale the feature importances\n",
    "unscaled_feature_importances = scaler.inverse_transform(feature_importances)\n",
    "\n",
    "# Reshape the unscaled feature importances back to the original shape\n",
    "unscaled_feature_importances = unscaled_feature_importances.reshape(-1,)\n",
    "\n",
    "# Get the original column names\n",
    "column_names = x_train_numerical.columns  # Use only numerical column names\n",
    "\n",
    "# Create a DataFrame with a single column containing unscaled feature importances\n",
    "unscaled_feature_importances_df = pd.DataFrame({'Feature': column_names, 'Unscaled Importance': unscaled_feature_importances})\n",
    "\n",
    "print(unscaled_feature_importances_df)\n"
   ]
  },
  {
   "cell_type": "code",
   "execution_count": null,
   "metadata": {},
   "outputs": [],
   "source": []
  }
 ],
 "metadata": {
  "kernelspec": {
   "display_name": "base",
   "language": "python",
   "name": "python3"
  },
  "language_info": {
   "codemirror_mode": {
    "name": "ipython",
    "version": 3
   },
   "file_extension": ".py",
   "mimetype": "text/x-python",
   "name": "python",
   "nbconvert_exporter": "python",
   "pygments_lexer": "ipython3",
   "version": "3.10.9"
  }
 },
 "nbformat": 4,
 "nbformat_minor": 2
}
